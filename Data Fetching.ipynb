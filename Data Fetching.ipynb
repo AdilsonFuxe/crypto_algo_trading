{
 "cells": [
  {
   "cell_type": "code",
   "execution_count": 2,
   "metadata": {},
   "outputs": [],
   "source": [
    "import pandas as pd\n",
    "import ccxt\n",
    "import datetime"
   ]
  },
  {
   "cell_type": "code",
   "execution_count": 42,
   "metadata": {},
   "outputs": [
    {
     "name": "stdout",
     "output_type": "stream",
     "text": [
      "\u001b[92m _1btcxe  Serves OHLCV data\n",
      "\u001b[92m acx  Serves OHLCV data\n",
      "\u001b[92m allcoin  Serves OHLCV data\n",
      "\u001b[92m binance  Serves OHLCV data\n",
      "\u001b[92m bitfinex  Serves OHLCV data\n",
      "\u001b[92m bitfinex2  Serves OHLCV data\n",
      "\u001b[92m bitlish  Serves OHLCV data\n",
      "\u001b[92m bitmarket  Serves OHLCV data\n",
      "\u001b[92m bitmex  Serves OHLCV data\n",
      "\u001b[92m bittrex  Serves OHLCV data\n",
      "\u001b[92m btcturk  Serves OHLCV data\n",
      "\u001b[92m cex  Serves OHLCV data\n",
      "\u001b[92m gatecoin  Serves OHLCV data\n",
      "\u001b[92m gdax  Serves OHLCV data\n",
      "\u001b[92m getbtc  Serves OHLCV data\n",
      "\u001b[92m hitbtc2  Serves OHLCV data\n",
      "\u001b[92m huobicny  Serves OHLCV data\n",
      "\u001b[92m huobipro  Serves OHLCV data\n",
      "\u001b[92m kraken  Serves OHLCV data\n",
      "\u001b[92m kucoin  Serves OHLCV data\n",
      "\u001b[92m okcoinusd  Serves OHLCV data\n",
      "\u001b[92m okex  Serves OHLCV data\n",
      "\u001b[92m poloniex  Serves OHLCV data\n"
     ]
    }
   ],
   "source": [
    "xchanges = []\n",
    "for broker in ccxt.exchanges:\n",
    "    try:\n",
    "        exchange = getattr(ccxt, broker)()\n",
    "        market = list(exchange.load_markets().keys())[0]\n",
    "        exchange.fetch_ohlcv(market)\n",
    "        print(\"\\033[92m\", broker, \" Serves OHLCV data\")\n",
    "        xchanges.append(exchange)\n",
    "    except Exception as e:\n",
    "        #print(\"\\033[91m\", e)\n",
    "        pass"
   ]
  },
  {
   "cell_type": "code",
   "execution_count": 50,
   "metadata": {},
   "outputs": [
    {
     "data": {
      "text/plain": [
       "{'api': {'private': 'https://trade.zb.com/api',\n",
       "  'public': 'http://api.zb.com/data'},\n",
       " 'doc': 'https://www.zb.com/i/developer',\n",
       " 'fees': 'https://www.zb.com/i/rate',\n",
       " 'logo': 'https://user-images.githubusercontent.com/1294454/32859187-cd5214f0-ca5e-11e7-967d-96568e2e2bd1.jpg',\n",
       " 'www': 'https://trade.zb.com/api'}"
      ]
     },
     "execution_count": 50,
     "metadata": {},
     "output_type": "execute_result"
    }
   ],
   "source": [
    "exchange.describe()['urls']"
   ]
  },
  {
   "cell_type": "code",
   "execution_count": 51,
   "metadata": {},
   "outputs": [
    {
     "data": {
      "text/plain": [
       "{'private': {'post': ['order',\n",
       "   'cancelOrder',\n",
       "   'getOrder',\n",
       "   'getOrders',\n",
       "   'getOrdersNew',\n",
       "   'getOrdersIgnoreTradeType',\n",
       "   'getUnfinishedOrdersIgnoreTradeType',\n",
       "   'getAccountInfo',\n",
       "   'getUserAddress',\n",
       "   'getWithdrawAddress',\n",
       "   'getWithdrawRecord',\n",
       "   'getChargeRecord',\n",
       "   'getCnyWithdrawRecord',\n",
       "   'getCnyChargeRecord',\n",
       "   'withdraw']},\n",
       " 'public': {'get': ['markets', 'ticker', 'depth', 'trades', 'kline']}}"
      ]
     },
     "execution_count": 51,
     "metadata": {},
     "output_type": "execute_result"
    }
   ],
   "source": [
    "exchange.describe()['api']"
   ]
  },
  {
   "cell_type": "markdown",
   "metadata": {},
   "source": [
    "# CEX.IO"
   ]
  },
  {
   "cell_type": "code",
   "execution_count": 4,
   "metadata": {},
   "outputs": [],
   "source": [
    "x = ccxt.cex()"
   ]
  },
  {
   "cell_type": "code",
   "execution_count": 64,
   "metadata": {},
   "outputs": [
    {
     "name": "stdout",
     "output_type": "stream",
     "text": [
      "https://1btcxe.com/apistats\n",
      "https://acx.io/apimarkets\n",
      "unsupported operand type(s) for +=: 'dict' and 'str' {'web': {'get': ['Home/MarketOverViewDetail/']}, 'public': {'get': ['depth', 'kline', 'ticker', 'trades']}, 'private': {'post': ['batch_trade', 'cancel_order', 'order_history', 'order_info', 'orders_info', 'repayment', 'trade', 'trade_history', 'userinfo']}}\n",
      "unsupported operand type(s) for +=: 'dict' and 'str' {'web': {'get': ['exchange/public/product']}, 'wapi': {'post': ['withdraw'], 'get': ['depositHistory', 'withdrawHistory', 'depositAddress']}, 'v3': {'get': ['ticker/price', 'ticker/bookTicker']}, 'public': {'get': ['exchangeInfo', 'ping', 'time', 'depth', 'aggTrades', 'klines', 'ticker/24hr', 'ticker/allPrices', 'ticker/allBookTickers', 'ticker/price', 'ticker/bookTicker']}, 'private': {'get': ['order', 'openOrders', 'allOrders', 'account', 'myTrades'], 'post': ['order', 'order/test'], 'delete': ['order']}, 'v1': {'put': ['userDataStream'], 'post': ['userDataStream'], 'delete': ['userDataStream']}}\n",
      "https://api.bitfinex.combook/{symbol}\n",
      "https://api.bitfinex.complatform/status\n",
      "https://bitlish.com/apiinstruments\n",
      "unsupported operand type(s) for +=: 'dict' and 'str' {'public': {'get': ['json/{market}/ticker', 'json/{market}/orderbook', 'json/{market}/trades', 'json/ctransfer', 'graphs/{market}/90m', 'graphs/{market}/6h', 'graphs/{market}/1d', 'graphs/{market}/7d', 'graphs/{market}/1m', 'graphs/{market}/3m', 'graphs/{market}/6m', 'graphs/{market}/1y']}, 'private': {'post': ['info', 'trade', 'cancel', 'orders', 'trades', 'history', 'withdrawals', 'tradingdesk', 'tradingdeskStatus', 'tradingdeskConfirm', 'cryptotradingdesk', 'cryptotradingdeskStatus', 'cryptotradingdeskConfirm', 'withdraw', 'withdrawFiat', 'withdrawPLNPP', 'withdrawFiatFast', 'deposit', 'transfer', 'transfers', 'marginList', 'marginOpen', 'marginClose', 'marginCancel', 'marginModify', 'marginBalanceAdd', 'marginBalanceRemove', 'swapList', 'swapOpen', 'swapClose']}}\n",
      "https://www.bitmex.comannouncement\n",
      "unsupported operand type(s) for +=: 'dict' and 'str' {'v2': {'get': ['currencies/GetBTCPrice', 'market/GetTicks', 'market/GetLatestTick', 'Markets/GetMarketSummaries', 'market/GetLatestTick']}, 'public': {'get': ['currencies', 'markethistory', 'markets', 'marketsummaries', 'marketsummary', 'orderbook', 'ticker']}, 'account': {'get': ['balance', 'balances', 'depositaddress', 'deposithistory', 'order', 'orderhistory', 'withdrawalhistory', 'withdraw']}, 'market': {'get': ['buylimit', 'buymarket', 'cancel', 'openorders', 'selllimit', 'sellmarket']}}\n",
      "https://www.btcturk.com/apiohlcdata\n",
      "https://cex.io/apicurrency_limits/\n",
      "https://api.gatecoin.comPublic/ExchangeRate\n",
      "https://api.gdax.comcurrencies\n",
      "https://getbtc.org/apistats\n",
      "https://api.hitbtc.comsymbol\n",
      "https://be.huobi.comcommon/symbols\n",
      "https://api.huobi.procommon/symbols\n",
      "https://api.kraken.comAssets\n",
      "https://api.kucoin.comopen/chart/config\n",
      "unsupported operand type(s) for +=: 'dict' and 'str' {'web': {'get': ['markets/currencies', 'markets/products']}, 'public': {'get': ['depth', 'exchange_rate', 'future_depth', 'future_estimated_price', 'future_hold_amount', 'future_index', 'future_kline', 'future_price_limit', 'future_ticker', 'future_trades', 'kline', 'otcs', 'ticker', 'tickers', 'trades']}, 'private': {'post': ['account_records', 'batch_trade', 'borrow_money', 'borrow_order_info', 'borrows_info', 'cancel_borrow', 'cancel_order', 'cancel_otc_order', 'cancel_withdraw', 'future_batch_trade', 'future_cancel', 'future_devolve', 'future_explosive', 'future_order_info', 'future_orders_info', 'future_position', 'future_position_4fix', 'future_trade', 'future_trades_history', 'future_userinfo', 'future_userinfo_4fix', 'lend_depth', 'order_fee', 'order_history', 'order_info', 'orders_info', 'otc_order_history', 'otc_order_info', 'repayment', 'submit_otc_order', 'trade', 'trade_history', 'trade_otc_order', 'withdraw', 'withdraw_info', 'unrepayments_info', 'userinfo']}}\n",
      "unsupported operand type(s) for +=: 'dict' and 'str' {'web': {'get': ['markets/currencies', 'markets/products']}, 'public': {'get': ['depth', 'exchange_rate', 'future_depth', 'future_estimated_price', 'future_hold_amount', 'future_index', 'future_kline', 'future_price_limit', 'future_ticker', 'future_trades', 'kline', 'otcs', 'ticker', 'tickers', 'trades']}, 'private': {'post': ['account_records', 'batch_trade', 'borrow_money', 'borrow_order_info', 'borrows_info', 'cancel_borrow', 'cancel_order', 'cancel_otc_order', 'cancel_withdraw', 'future_batch_trade', 'future_cancel', 'future_devolve', 'future_explosive', 'future_order_info', 'future_orders_info', 'future_position', 'future_position_4fix', 'future_trade', 'future_trades_history', 'future_userinfo', 'future_userinfo_4fix', 'lend_depth', 'order_fee', 'order_history', 'order_info', 'orders_info', 'otc_order_history', 'otc_order_info', 'repayment', 'submit_otc_order', 'trade', 'trade_history', 'trade_otc_order', 'withdraw', 'withdraw_info', 'unrepayments_info', 'userinfo']}}\n",
      "unsupported operand type(s) for +=: 'dict' and 'str' {'public': {'get': ['return24hVolume', 'returnChartData', 'returnCurrencies', 'returnLoanOrders', 'returnOrderBook', 'returnTicker', 'returnTradeHistory']}, 'private': {'post': ['buy', 'cancelLoanOffer', 'cancelOrder', 'closeMarginPosition', 'createLoanOffer', 'generateNewAddress', 'getMarginPosition', 'marginBuy', 'marginSell', 'moveOrder', 'returnActiveLoans', 'returnAvailableAccountBalances', 'returnBalances', 'returnCompleteBalances', 'returnDepositAddresses', 'returnDepositsWithdrawals', 'returnFeeInfo', 'returnLendingHistory', 'returnMarginAccountSummary', 'returnOpenLoanOffers', 'returnOpenOrders', 'returnOrderTrades', 'returnTradableBalances', 'returnTradeHistory', 'sell', 'toggleAutoRenew', 'transferBalance', 'withdraw']}}\n"
     ]
    }
   ],
   "source": [
    "t = datetime.datetime(2018,1,1)\n",
    "for x in xchanges:\n",
    "    desc = x.describe()\n",
    "    try:\n",
    "        url =  desc['urls']['api']  if not 'public' in desc['urls'] else desc['urls']['public'][0]\n",
    "        url += desc['api'][0] if 'public' not in desc['api'] else desc['api']['public']['get'][0]\n",
    "        print(url)\n",
    "    except KeyError as e:\n",
    "        print(e, desc['urls'], desc['api'])\n",
    "    except TypeError as e:\n",
    "        print(e, desc['api'])\n",
    "#     data = x.fetch_ohlcv('ETH/BTC', since=int(t.timestamp()))\n",
    "#     df = pd.DataFrame(data, columns=['date', 'open', 'high', 'low', 'close', 'volume'])\n",
    "#     df.date = pd.to_datetime(df.date)\n",
    "#     df.set_index('date')\n",
    "#     df"
   ]
  },
  {
   "cell_type": "code",
   "execution_count": 31,
   "metadata": {},
   "outputs": [
    {
     "data": {
      "text/plain": [
       "1483236000.0"
      ]
     },
     "execution_count": 31,
     "metadata": {},
     "output_type": "execute_result"
    }
   ],
   "source": [
    "t.timestamp()"
   ]
  },
  {
   "cell_type": "code",
   "execution_count": 17,
   "metadata": {},
   "outputs": [
    {
     "data": {
      "text/plain": [
       "[[1483237500000, 0.0086, 0.0086, 0.0086, 0.0086, 1.0],\n",
       " [1483237740000, 0.00867537, 0.0087052, 0.00867537, 0.0087052, 11.22715],\n",
       " [1483237800000, 0.00874108, 0.00874108, 0.00874108, 0.00874108, 35.589572],\n",
       " [1483237860000, 0.00876156, 0.00876156, 0.00876156, 0.00876156, 1.0],\n",
       " [1483238520000, 0.0088, 0.00884903, 0.0088, 0.00884903, 800.113527],\n",
       " [1483238880000, 0.00871508, 0.00871508, 0.00870237, 0.00870237, 453.057529],\n",
       " [1483241040000, 0.0088249, 0.0088249, 0.0088249, 0.0088249, 1.926823],\n",
       " [1483241940000, 0.008877, 0.008877, 0.008877, 0.008877, 2.001146],\n",
       " [1483242120000, 0.00885152, 0.00885152, 0.00885152, 0.00885152, 99.999999],\n",
       " [1483242180000, 0.00887003, 0.00887003, 0.00887003, 0.00887003, 2.712428],\n",
       " [1483243440000, 0.00887, 0.00887, 0.00887, 0.00887, 16.943423],\n",
       " [1483243500000, 0.00887003, 0.00887003, 0.00887003, 0.00887003, 1.200001],\n",
       " [1483245180000, 0.0087362, 0.0087362, 0.0087362, 0.0087362, 2.400002],\n",
       " [1483247520000, 0.00874404, 0.00874404, 0.00874404, 0.00874404, 1.002704],\n",
       " [1483250100000, 0.00867, 0.00867, 0.00867, 0.00867, 4.558324],\n",
       " [1483250220000, 0.00867, 0.00867, 0.00867, 0.00867, 1.200001],\n",
       " [1483251840000, 0.00863179, 0.00863179, 0.00863179, 0.00863179, 4.782658],\n",
       " [1483251900000, 0.00863179, 0.00864765, 0.00863179, 0.00864765, 9.712713],\n",
       " [1483253580000, 0.00871, 0.00871, 0.00871, 0.00871, 4.558324],\n",
       " [1483253760000, 0.00871, 0.00871, 0.00871, 0.00871, 1.200001],\n",
       " [1483254300000, 0.00868436, 0.00868436, 0.00868436, 0.00868436, 1.198758],\n",
       " [1483254840000, 0.00867978, 0.00867978, 0.00867978, 0.00867978, 1.0],\n",
       " [1483256040000, 0.00866396, 0.00866396, 0.00866396, 0.00866396, 1.001717],\n",
       " [1483259280000, 0.00861, 0.00861, 0.00861, 0.00861, 1.002593],\n",
       " [1483260720000, 0.00867824, 0.00867825, 0.00867824, 0.00867824, 23.821791],\n",
       " [1483263720000, 0.0086492, 0.0086492, 0.0086492, 0.0086492, 9.181963],\n",
       " [1483265160000, 0.00858, 0.00858, 0.00858, 0.00858, 4.797871],\n",
       " [1483265460000, 0.00848119, 0.00848119, 0.00841655, 0.00841655, 8.609336],\n",
       " [1483266420000, 0.00839233, 0.00839233, 0.00839233, 0.00839233, 63.108245],\n",
       " [1483266480000, 0.00839233, 0.00839233, 0.00839233, 0.00839233, 1.200001],\n",
       " [1483267440000, 0.00840319, 0.00840344, 0.00840319, 0.00840344, 4.014224],\n",
       " [1483267500000, 0.00841108, 0.00841108, 0.00841108, 0.00841108, 3.387169],\n",
       " [1483267560000, 0.00841014, 0.00841014, 0.00841014, 0.00841014, 10.0],\n",
       " [1483275720000, 0.00842, 0.0084758, 0.00842, 0.0084758, 18.944579],\n",
       " [1483281180000, 0.00847589, 0.00847589, 0.00847589, 0.00847589, 1.021078],\n",
       " [1483284720000, 0.00844789, 0.00844789, 0.00844789, 0.00844789, 1.001958],\n",
       " [1483286040000, 0.00851671, 0.00851671, 0.00851671, 0.00851671, 1.457919],\n",
       " [1483286100000, 0.00854968, 0.0085503, 0.00854968, 0.0085503, 9.5],\n",
       " [1483287720000, 0.00856, 0.00856, 0.00856, 0.00856, 2.966906],\n",
       " [1483288200000, 0.00860243, 0.0086028, 0.00860243, 0.0086028, 99.999999],\n",
       " [1483288800000, 0.00845, 0.00845, 0.00842498, 0.00842498, 11.870202],\n",
       " [1483289400000, 0.00833414, 0.00833414, 0.00833414, 0.00833414, 21.4],\n",
       " [1483289460000, 0.00840876, 0.00840883, 0.00840876, 0.00840883, 49.999999],\n",
       " [1483290480000, 0.00830077, 0.00830077, 0.00830077, 0.00830077, 1.388222],\n",
       " [1483290660000, 0.00825701, 0.00825701, 0.00825701, 0.00825701, 10.0],\n",
       " [1483290900000, 0.00832603, 0.00832603, 0.00832603, 0.00832603, 1.593836],\n",
       " [1483291620000, 0.00830077, 0.00830077, 0.00830077, 0.00830077, 1.617521],\n",
       " [1483291800000, 0.00830781, 0.00830781, 0.00830781, 0.00830781, 20.924445],\n",
       " [1483292160000, 0.00832202, 0.00832202, 0.00830825, 0.00830825, 10.0],\n",
       " [1483293840000, 0.00830315, 0.00830612, 0.00830315, 0.00830612, 10.942961],\n",
       " [1483293900000, 0.00830612, 0.00830612, 0.00830612, 0.00830612, 0.00994],\n",
       " [1483294140000, 0.00837316, 0.00837316, 0.00837316, 0.00837316, 1.999998],\n",
       " [1483296480000, 0.00832653, 0.00832653, 0.00832653, 0.00832653, 1.203268],\n",
       " [1483297680000, 0.00831061, 0.00831061, 0.00831061, 0.00831061, 1.300359],\n",
       " [1483299660000, 0.00829767, 0.00829767, 0.00829767, 0.00829767, 19.383228],\n",
       " [1483302000000, 0.00825118, 0.00825118, 0.00825118, 0.00825118, 1.0],\n",
       " [1483302240000, 0.00825, 0.00825, 0.00825, 0.00825, 2.0],\n",
       " [1483302600000, 0.00825, 0.00825, 0.00825, 0.00825, 1.0],\n",
       " [1483302840000, 0.008237, 0.008237, 0.00816359, 0.00816359, 133.333334],\n",
       " [1483304340000, 0.008135, 0.008135, 0.008135, 0.008135, 6.0],\n",
       " [1483304400000, 0.00808588, 0.00808588, 0.00808588, 0.00808588, 1.000526],\n",
       " [1483305600000, 0.00809088, 0.00811739, 0.00809088, 0.00811739, 133.333334],\n",
       " [1483305960000, 0.00804597, 0.00804597, 0.00804597, 0.00804597, 2.0078],\n",
       " [1483307280000, 0.0080459, 0.0080459, 0.0080302, 0.0080302, 149.999998],\n",
       " [1483307340000, 0.0080302, 0.0080302, 0.0080302, 0.0080302, 133.333334],\n",
       " [1483309920000, 0.00814, 0.00814, 0.00814, 0.00814, 4.91],\n",
       " [1483314540000, 0.00817119, 0.00817119, 0.00817119, 0.00817119, 1.191943],\n",
       " [1483315080000, 0.00824064, 0.00824064, 0.00824064, 0.00824064, 1.046034]]"
      ]
     },
     "execution_count": 17,
     "metadata": {},
     "output_type": "execute_result"
    }
   ],
   "source": [
    "data"
   ]
  },
  {
   "cell_type": "markdown",
   "metadata": {},
   "source": [
    "## Finding the beginning of the Poloniex Trade history series\n",
    "from previous explorations I know that poloniex data starts somewhere in february 2015, so let's find the exact day."
   ]
  },
  {
   "cell_type": "code",
   "execution_count": 3,
   "metadata": {},
   "outputs": [
    {
     "name": "stdout",
     "output_type": "stream",
     "text": [
      "tried 2015-02-01 00:00:00, nothing.\n",
      "tried 2015-02-02 00:00:00, nothing.\n",
      "tried 2015-02-03 00:00:00, nothing.\n",
      "tried 2015-02-04 00:00:00, nothing.\n",
      "tried 2015-02-05 00:00:00, nothing.\n",
      "tried 2015-02-06 00:00:00, nothing.\n",
      "tried 2015-02-07 00:00:00, nothing.\n",
      "tried 2015-02-08 00:00:00, nothing.\n",
      "tried 2015-02-09 00:00:00, nothing.\n",
      "tried 2015-02-10 00:00:00, nothing.\n",
      "tried 2015-02-11 00:00:00, nothing.\n",
      "tried 2015-02-12 00:00:00, nothing.\n",
      "tried 2015-02-13 00:00:00, nothing.\n",
      "tried 2015-02-14 00:00:00, nothing.\n",
      "tried 2015-02-15 00:00:00, nothing.\n",
      "tried 2015-02-16 00:00:00, nothing.\n",
      "tried 2015-02-17 00:00:00, nothing.\n",
      "tried 2015-02-18 00:00:00, nothing.\n",
      "fetched 72 USDT_BTC trades.\n",
      "==> Found it: 2015-02-19 00:00:00\n",
      "                       amount  globalTradeID  rate      total  tradeID  type\n",
      "date                                                                        \n",
      "2015-02-19 22:37:58  0.000002        7132842   244   0.000437       12   buy\n",
      "2015-02-19 20:48:17  0.042526        7131958   244  10.376329       11   buy\n",
      "2015-02-19 20:48:16  0.017520        7131936   244   4.274897       10   buy\n",
      "2015-02-19 20:21:01  0.001127        7131771   240   0.270514        9  sell\n",
      "2015-02-19 20:21:00  0.026393        7131763   240   6.334411        8  sell\n",
      "2015-02-19 20:21:00  0.026393        7131761   240   6.334438        7  sell\n",
      "2015-02-19 20:20:30  0.023817        7131760   240   5.715998        6   buy\n",
      "2015-02-19 20:20:30  0.031000        7131759   238   7.378000        5   buy\n",
      "2015-02-19 20:20:30  0.011400        7131758   235   2.679000        4   buy\n",
      "2015-02-19 20:20:30  0.000112        7131757   234   0.026297        3   buy\n",
      "2015-02-19 20:20:30  0.008382        7131756   225   1.885993        2   buy\n",
      "2015-02-19 19:14:15  0.004444        7131405   225   0.999999        1   buy\n"
     ]
    }
   ],
   "source": [
    "import poloniex\n",
    "start = datetime.datetime(2015,2,1)\n",
    "while True:\n",
    "    end = start + datetime.timedelta(days=1)\n",
    "    try: \n",
    "        df = poloniex.get_full_table('USDT_BTC', start, end)\n",
    "        print(\"==> Found it: {}\".format(start))\n",
    "        print(df)\n",
    "        break\n",
    "    except Exception as e:\n",
    "        print(\"tried {}, nothing.\".format(start))\n",
    "        start += datetime.timedelta(days=1)\n",
    "        continue"
   ]
  },
  {
   "cell_type": "code",
   "execution_count": 5,
   "metadata": {},
   "outputs": [],
   "source": [
    "datetime.timedelta?"
   ]
  },
  {
   "cell_type": "code",
   "execution_count": null,
   "metadata": {},
   "outputs": [],
   "source": []
  }
 ],
 "metadata": {
  "kernelspec": {
   "display_name": "Python 3",
   "language": "python",
   "name": "python3"
  },
  "language_info": {
   "codemirror_mode": {
    "name": "ipython",
    "version": 3
   },
   "file_extension": ".py",
   "mimetype": "text/x-python",
   "name": "python",
   "nbconvert_exporter": "python",
   "pygments_lexer": "ipython3",
   "version": "3.6.3"
  }
 },
 "nbformat": 4,
 "nbformat_minor": 2
}
