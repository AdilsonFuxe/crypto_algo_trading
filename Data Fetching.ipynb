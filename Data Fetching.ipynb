{
 "cells": [
  {
   "cell_type": "code",
   "execution_count": 1,
   "metadata": {},
   "outputs": [],
   "source": [
    "import pandas as pd\n",
    "import ccxt\n",
    "import datetime"
   ]
  },
  {
   "cell_type": "code",
   "execution_count": 2,
   "metadata": {},
   "outputs": [
    {
     "name": "stdout",
     "output_type": "stream",
     "text": [
      "\u001b[92m _1btcxe  Serves OHLCV data\n",
      "\u001b[92m acx  Serves OHLCV data\n",
      "\u001b[92m anybits  Serves OHLCV data\n",
      "\u001b[92m bequant  Serves OHLCV data\n",
      "\u001b[92m bigone  Serves OHLCV data\n",
      "\u001b[92m binance  Serves OHLCV data\n",
      "\u001b[92m binanceje  Serves OHLCV data\n",
      "\u001b[92m bit2c  Serves OHLCV data\n",
      "\u001b[92m bitbank  Serves OHLCV data\n",
      "\u001b[92m bitbay  Serves OHLCV data\n",
      "\u001b[92m bitfinex  Serves OHLCV data\n",
      "\u001b[92m bitfinex2  Serves OHLCV data\n",
      "\u001b[92m bitflyer  Serves OHLCV data\n",
      "\u001b[92m bitforex  Serves OHLCV data\n",
      "\u001b[92m bithumb  Serves OHLCV data\n",
      "\u001b[92m bitkk  Serves OHLCV data\n",
      "\u001b[92m bitlish  Serves OHLCV data\n",
      "\u001b[92m bitmarket  Serves OHLCV data\n",
      "\u001b[92m bitmex  Serves OHLCV data\n",
      "\u001b[92m bitsane  Serves OHLCV data\n",
      "\u001b[92m bitso  Serves OHLCV data\n",
      "\u001b[92m bitstamp  Serves OHLCV data\n",
      "\u001b[92m bitstamp1  Serves OHLCV data\n",
      "\u001b[92m bittrex  Serves OHLCV data\n",
      "\u001b[92m bitz  Serves OHLCV data\n",
      "\u001b[92m bl3p  Serves OHLCV data\n",
      "\u001b[92m bleutrade  Serves OHLCV data\n",
      "\u001b[92m braziliex  Serves OHLCV data\n",
      "\u001b[92m btcalpha  Serves OHLCV data\n",
      "\u001b[92m btcbox  Serves OHLCV data\n",
      "\u001b[92m btctradeua  Serves OHLCV data\n",
      "\u001b[92m buda  Serves OHLCV data\n",
      "\u001b[92m cex  Serves OHLCV data\n",
      "\u001b[92m chilebit  Serves OHLCV data\n",
      "\u001b[92m cobinhood  Serves OHLCV data\n",
      "\u001b[92m coinbaseprime  Serves OHLCV data\n",
      "\u001b[92m coinbasepro  Serves OHLCV data\n",
      "\u001b[92m coincheck  Serves OHLCV data\n",
      "\u001b[92m coinex  Serves OHLCV data\n",
      "\u001b[92m coinfalcon  Serves OHLCV data\n",
      "\u001b[92m coinfloor  Serves OHLCV data\n",
      "\u001b[92m coinnest  Serves OHLCV data\n",
      "\u001b[92m coinone  Serves OHLCV data\n",
      "\u001b[92m coss  Serves OHLCV data\n",
      "\u001b[92m crex24  Serves OHLCV data\n",
      "\u001b[92m crypton  Serves OHLCV data\n",
      "\u001b[92m cryptopia  Serves OHLCV data\n",
      "\u001b[92m deribit  Serves OHLCV data\n",
      "\u001b[92m dsx  Serves OHLCV data\n",
      "\u001b[92m ethfinex  Serves OHLCV data\n",
      "\u001b[92m exmo  Serves OHLCV data\n",
      "\u001b[92m exx  Serves OHLCV data\n",
      "\u001b[92m fcoinjp  Serves OHLCV data\n",
      "\u001b[92m foxbit  Serves OHLCV data\n",
      "\u001b[92m fybsg  Serves OHLCV data\n",
      "\u001b[92m gateio  Serves OHLCV data\n",
      "\u001b[92m gdax  Serves OHLCV data\n",
      "\u001b[92m gemini  Serves OHLCV data\n",
      "\u001b[92m hadax  Serves OHLCV data\n",
      "\u001b[92m hitbtc2  Serves OHLCV data\n",
      "\u001b[92m huobipro  Serves OHLCV data\n",
      "\u001b[92m huobiru  Serves OHLCV data\n",
      "\u001b[92m independentreserve  Serves OHLCV data\n",
      "\u001b[92m indodax  Serves OHLCV data\n",
      "\u001b[92m itbit  Serves OHLCV data\n",
      "\u001b[92m kkex  Serves OHLCV data\n",
      "\u001b[92m kraken  Serves OHLCV data\n",
      "\u001b[92m kucoin  Serves OHLCV data\n",
      "\u001b[92m kucoin2  Serves OHLCV data\n",
      "\u001b[92m kuna  Serves OHLCV data\n",
      "\u001b[92m lakebtc  Serves OHLCV data\n",
      "\u001b[92m liquid  Serves OHLCV data\n",
      "\u001b[92m luno  Serves OHLCV data\n",
      "\u001b[92m mandala  Serves OHLCV data\n",
      "\u001b[92m negociecoins  Serves OHLCV data\n",
      "\u001b[92m nova  Serves OHLCV data\n",
      "\u001b[92m okcoinusd  Serves OHLCV data\n",
      "\u001b[92m okex  Serves OHLCV data\n",
      "\u001b[92m paymium  Serves OHLCV data\n",
      "\u001b[92m southxchange  Serves OHLCV data\n",
      "\u001b[92m surbitcoin  Serves OHLCV data\n",
      "\u001b[92m therock  Serves OHLCV data\n",
      "\u001b[92m tidebit  Serves OHLCV data\n",
      "\u001b[92m tidex  Serves OHLCV data\n",
      "\u001b[92m upbit  Serves OHLCV data\n",
      "\u001b[92m urdubit  Serves OHLCV data\n",
      "\u001b[92m vaultoro  Serves OHLCV data\n",
      "\u001b[92m vbtc  Serves OHLCV data\n",
      "\u001b[92m virwox  Serves OHLCV data\n",
      "\u001b[92m zaif  Serves OHLCV data\n",
      "\u001b[92m zb  Serves OHLCV data\n"
     ]
    }
   ],
   "source": [
    "xchanges = []\n",
    "for broker in ccxt.exchanges:\n",
    "    try:\n",
    "        exchange = getattr(ccxt, broker)()\n",
    "        market = list(exchange.load_markets().keys())[0]\n",
    "        exchange.fetch_ohlcv(market)\n",
    "        print(\"\\033[92m\", broker, \" Serves OHLCV data\")\n",
    "        xchanges.append(exchange)\n",
    "    except Exception as e:\n",
    "        #print(\"\\033[91m\", e)\n",
    "        pass"
   ]
  },
  {
   "cell_type": "code",
   "execution_count": 3,
   "metadata": {},
   "outputs": [
    {
     "data": {
      "text/plain": [
       "{'logo': 'https://user-images.githubusercontent.com/1294454/32859187-cd5214f0-ca5e-11e7-967d-96568e2e2bd1.jpg',\n",
       " 'api': {'public': 'http://api.zb.cn/data',\n",
       "  'private': 'https://trade.zb.cn/api'},\n",
       " 'www': 'https://www.zb.com',\n",
       " 'doc': 'https://www.zb.com/i/developer',\n",
       " 'fees': 'https://www.zb.com/i/rate',\n",
       " 'referral': 'https://vip.zb.com/user/register?recommendCode=bn070u'}"
      ]
     },
     "execution_count": 3,
     "metadata": {},
     "output_type": "execute_result"
    }
   ],
   "source": [
    "exchange.describe()['urls']"
   ]
  },
  {
   "cell_type": "code",
   "execution_count": 4,
   "metadata": {},
   "outputs": [
    {
     "data": {
      "text/plain": [
       "{'public': {'get': ['markets',\n",
       "   'ticker',\n",
       "   'allTicker',\n",
       "   'depth',\n",
       "   'trades',\n",
       "   'kline']},\n",
       " 'private': {'get': ['order',\n",
       "   'cancelOrder',\n",
       "   'getOrder',\n",
       "   'getOrders',\n",
       "   'getOrdersNew',\n",
       "   'getOrdersIgnoreTradeType',\n",
       "   'getUnfinishedOrdersIgnoreTradeType',\n",
       "   'getAccountInfo',\n",
       "   'getUserAddress',\n",
       "   'getWithdrawAddress',\n",
       "   'getWithdrawRecord',\n",
       "   'getChargeRecord',\n",
       "   'getCnyWithdrawRecord',\n",
       "   'getCnyChargeRecord',\n",
       "   'withdraw',\n",
       "   'getLeverAssetsInfo',\n",
       "   'getLeverBills',\n",
       "   'transferInLever',\n",
       "   'transferOutLever',\n",
       "   'loan',\n",
       "   'cancelLoan',\n",
       "   'getLoans',\n",
       "   'getLoanRecords',\n",
       "   'borrow',\n",
       "   'repay',\n",
       "   'getRepayments']}}"
      ]
     },
     "execution_count": 4,
     "metadata": {},
     "output_type": "execute_result"
    }
   ],
   "source": [
    "exchange.describe()['api']"
   ]
  },
  {
   "cell_type": "markdown",
   "metadata": {},
   "source": [
    "# CEX.IO"
   ]
  },
  {
   "cell_type": "code",
   "execution_count": 5,
   "metadata": {},
   "outputs": [],
   "source": [
    "x = ccxt.cex()"
   ]
  },
  {
   "cell_type": "code",
   "execution_count": 6,
   "metadata": {},
   "outputs": [
    {
     "name": "stdout",
     "output_type": "stream",
     "text": [
      "https://1btcxe.com/apistats\n",
      "https://acx.io/apidepth\n",
      "https://anybits.com/apiassets/currencies\n",
      "https://api.bequant.iosymbol\n",
      "unsupported operand type(s) for +=: 'dict' and 'str' {'public': {'get': ['ping', 'markets', 'markets/{symbol}/depth', 'markets/{symbol}/trades', 'markets/{symbol}/ticker', 'orders', 'orders/{id}', 'tickers', 'trades']}, 'private': {'get': ['accounts', 'orders', 'orders/{order_id}', 'trades', 'withdrawals', 'deposits'], 'post': ['orders', 'orders/{order_id}/cancel', 'orders/cancel_all']}}\n",
      "unsupported operand type(s) for +=: 'dict' and 'str' {'web': {'get': ['exchange/public/product', 'assetWithdraw/getAllAsset.html']}, 'wapi': {'post': ['withdraw', 'sub-account/transfer'], 'get': ['depositHistory', 'withdrawHistory', 'depositAddress', 'accountStatus', 'systemStatus', 'apiTradingStatus', 'userAssetDribbletLog', 'tradeFee', 'assetDetail', 'sub-account/list', 'sub-account/transfer/history', 'sub-account/assets']}, 'v3': {'get': ['ticker/price', 'ticker/bookTicker']}, 'public': {'get': ['ping', 'time', 'depth', 'trades', 'aggTrades', 'klines', 'ticker/24hr', 'ticker/allPrices', 'ticker/allBookTickers', 'ticker/price', 'ticker/bookTicker', 'exchangeInfo'], 'put': ['userDataStream'], 'post': ['userDataStream'], 'delete': ['userDataStream']}, 'private': {'get': ['order', 'openOrders', 'allOrders', 'account', 'myTrades'], 'post': ['order', 'order/test'], 'delete': ['order']}}\n",
      "unsupported operand type(s) for +=: 'dict' and 'str' {'web': {'get': ['exchange/public/product', 'assetWithdraw/getAllAsset.html']}, 'wapi': {'post': ['withdraw', 'sub-account/transfer'], 'get': ['depositHistory', 'withdrawHistory', 'depositAddress', 'accountStatus', 'systemStatus', 'apiTradingStatus', 'userAssetDribbletLog', 'tradeFee', 'assetDetail', 'sub-account/list', 'sub-account/transfer/history', 'sub-account/assets']}, 'v3': {'get': ['ticker/price', 'ticker/bookTicker']}, 'public': {'get': ['ping', 'time', 'depth', 'trades', 'aggTrades', 'klines', 'ticker/24hr', 'ticker/allPrices', 'ticker/allBookTickers', 'ticker/price', 'ticker/bookTicker', 'exchangeInfo'], 'put': ['userDataStream'], 'post': ['userDataStream'], 'delete': ['userDataStream']}, 'private': {'get': ['order', 'openOrders', 'allOrders', 'account', 'myTrades'], 'post': ['order', 'order/test'], 'delete': ['order']}}\n",
      "https://bit2c.co.ilExchanges/{pair}/Ticker\n",
      "unsupported operand type(s) for +=: 'dict' and 'str' {'public': {'get': ['{pair}/ticker', '{pair}/depth', '{pair}/transactions', '{pair}/transactions/{yyyymmdd}', '{pair}/candlestick/{candletype}/{yyyymmdd}']}, 'private': {'get': ['user/assets', 'user/spot/order', 'user/spot/active_orders', 'user/spot/trade_history', 'user/withdrawal_account'], 'post': ['user/spot/order', 'user/spot/cancel_order', 'user/spot/cancel_orders', 'user/spot/orders_info', 'user/request_withdrawal']}}\n",
      "unsupported operand type(s) for +=: 'dict' and 'str' {'public': {'get': ['{id}/all', '{id}/market', '{id}/orderbook', '{id}/ticker', '{id}/trades']}, 'private': {'post': ['info', 'trade', 'cancel', 'orderbook', 'orders', 'transfer', 'withdraw', 'history', 'transactions']}}\n",
      "https://api.bitfinex.combook/{symbol}\n",
      "https://api.bitfinex.complatform/status\n",
      "https://api.bitflyer.jpgetmarkets/usa\n",
      "https://api.bitforex.comapi/v1/market/symbols\n",
      "unsupported operand type(s) for +=: 'dict' and 'str' {'public': {'get': ['ticker/{currency}', 'ticker/all', 'orderbook/{currency}', 'orderbook/all', 'transaction_history/{currency}', 'transaction_history/all']}, 'private': {'post': ['info/account', 'info/balance', 'info/wallet_address', 'info/ticker', 'info/orders', 'info/user_transactions', 'trade/place', 'info/order_detail', 'trade/cancel', 'trade/btc_withdrawal', 'trade/krw_deposit', 'trade/krw_withdrawal', 'trade/market_buy', 'trade/market_sell']}}\n",
      "unsupported operand type(s) for +=: 'dict' and 'str' {'public': {'get': ['markets', 'ticker', 'allTicker', 'depth', 'trades', 'kline']}, 'private': {'get': ['order', 'cancelOrder', 'getOrder', 'getOrders', 'getOrdersNew', 'getOrdersIgnoreTradeType', 'getUnfinishedOrdersIgnoreTradeType', 'getAccountInfo', 'getUserAddress', 'getWithdrawAddress', 'getWithdrawRecord', 'getChargeRecord', 'getCnyWithdrawRecord', 'getCnyChargeRecord', 'withdraw', 'getLeverAssetsInfo', 'getLeverBills', 'transferInLever', 'transferOutLever', 'loan', 'cancelLoan', 'getLoans', 'getLoanRecords', 'borrow', 'repay', 'getRepayments']}}\n",
      "https://bitlish.com/apiinstruments\n",
      "unsupported operand type(s) for +=: 'dict' and 'str' {'public': {'get': ['json/{market}/ticker', 'json/{market}/orderbook', 'json/{market}/trades', 'json/ctransfer', 'graphs/{market}/90m', 'graphs/{market}/6h', 'graphs/{market}/1d', 'graphs/{market}/7d', 'graphs/{market}/1m', 'graphs/{market}/3m', 'graphs/{market}/6m', 'graphs/{market}/1y']}, 'private': {'post': ['info', 'trade', 'cancel', 'orders', 'trades', 'history', 'withdrawals', 'tradingdesk', 'tradingdeskStatus', 'tradingdeskConfirm', 'cryptotradingdesk', 'cryptotradingdeskStatus', 'cryptotradingdeskConfirm', 'withdraw', 'withdrawFiat', 'withdrawPLNPP', 'withdrawFiatFast', 'deposit', 'transfer', 'transfers', 'marginList', 'marginOpen', 'marginClose', 'marginCancel', 'marginModify', 'marginBalanceAdd', 'marginBalanceRemove', 'swapList', 'swapOpen', 'swapClose']}}\n",
      "https://www.bitmex.comannouncement\n",
      "https://bitsane.com/apiassets/currencies\n",
      "https://api.bitso.comavailable_books\n",
      "https://www.bitstamp.net/apiorder_book/{pair}/\n",
      "https://www.bitstamp.net/apiticker\n",
      "unsupported operand type(s) for +=: 'dict' and 'str' {'v2': {'get': ['currencies/GetBTCPrice', 'market/GetTicks', 'market/GetLatestTick', 'Markets/GetMarketSummaries', 'market/GetLatestTick']}, 'public': {'get': ['currencies', 'markethistory', 'markets', 'marketsummaries', 'marketsummary', 'orderbook', 'ticker']}, 'account': {'get': ['balance', 'balances', 'depositaddress', 'deposithistory', 'order', 'orders', 'orderhistory', 'withdrawalhistory', 'withdraw']}, 'market': {'get': ['buylimit', 'buymarket', 'cancel', 'openorders', 'selllimit', 'sellmarket']}}\n",
      "0 {'logo': 'https://user-images.githubusercontent.com/1294454/35862606-4f554f14-0b5d-11e8-957d-35058c504b6f.jpg', 'api': {'market': 'https://apiv2.bitz.com', 'trade': 'https://apiv2.bitz.com', 'assets': 'https://apiv2.bitz.com'}, 'www': 'https://www.bit-z.com', 'doc': 'https://apidoc.bit-z.com/en/', 'fees': 'https://www.bit-z.com/fee?type=1', 'referral': 'https://u.bit-z.com/register?invite_code=1429193'} {'market': {'get': ['ticker', 'depth', 'order', 'tickerall', 'kline', 'symbolList', 'currencyRate', 'currencyCoinRate', 'coinRate']}, 'trade': {'post': ['addEntrustSheet', 'cancelEntrustSheet', 'cancelAllEntrustSheet', 'getUserHistoryEntrustSheet', 'getUserNowEntrustSheet', 'getEntrustSheetInfo']}, 'assets': {'post': ['getUserAssets']}}\n",
      "https://api.bl3p.eu{market}/ticker\n",
      "unsupported operand type(s) for +=: 'dict' and 'str' {'v2': {'get': ['currencies/GetBTCPrice', 'market/GetTicks', 'market/GetLatestTick', 'Markets/GetMarketSummaries', 'market/GetLatestTick']}, 'public': {'get': ['candles', 'currencies', 'markethistory', 'markets', 'marketsummaries', 'marketsummary', 'orderbook', 'ticker']}, 'account': {'get': ['balance', 'balances', 'depositaddress', 'deposithistory', 'order', 'orders', 'orderhistory', 'withdrawhistory', 'withdraw']}, 'market': {'get': ['buylimit', 'buymarket', 'cancel', 'openorders', 'selllimit', 'sellmarket']}}\n",
      "https://braziliex.com/api/v1currencies\n",
      "https://btc-alpha.com/apicurrencies/\n",
      "https://www.btcbox.co.jp/apidepth\n",
      "https://btc-trade.com.ua/apideals/{symbol}\n",
      "https://www.buda.com/apipairs\n",
      "https://cex.io/apicurrency_limits/\n",
      "unsupported operand type(s) for +=: 'dict' and 'str' {'public': {'get': ['{currency}/ticker', '{currency}/orderbook', '{currency}/trades']}, 'private': {'post': ['D', 'F', 'U2', 'U4', 'U6', 'U18', 'U24', 'U26', 'U30', 'U34', 'U70']}}\n",
      "https://api.cobinhood.commarket/fundingbook/precisions/{currency_id}\n",
      "https://api.prime.coinbase.comcurrencies\n",
      "https://api.pro.coinbase.comcurrencies\n",
      "https://coincheck.com/apiexchange/orders/rate\n",
      "unsupported operand type(s) for +=: 'dict' and 'str' {'web': {'get': ['res/market']}, 'public': {'get': ['market/list', 'market/ticker', 'market/ticker/all', 'market/depth', 'market/deals', 'market/kline']}, 'private': {'get': ['balance/coin/withdraw', 'balance/coin/deposit', 'balance/info', 'order', 'order/pending', 'order/finished', 'order/finished/{id}', 'order/user/deals'], 'post': ['balance/coin/withdraw', 'order/limit', 'order/market'], 'delete': ['balance/coin/withdraw', 'order/pending']}}\n",
      "https://coinfalcon.commarkets\n",
      "https://webapi.coinfloor.co.uk/bist{id}/ticker/\n",
      "unsupported operand type(s) for +=: 'dict' and 'str' {'web': {'get': ['coin/allcoin']}, 'public': {'get': ['pub/ticker', 'pub/depth', 'pub/trades']}, 'private': {'post': ['account/balance', 'trade/add', 'trade/cancel', 'trade/fetchtrust', 'trade/trust']}}\n",
      "https://api.coinone.co.krorderbook/\n",
      "unsupported operand type(s) for +=: 'dict' and 'str' {'exchange': {'get': ['getmarketsummaries']}, 'public': {'get': ['market-price', 'exchange-info']}, 'web': {'get': ['coins/getinfo/all', 'order/symbols', 'coins/get_base_list']}, 'engine': {'get': ['dp', 'ht', 'cs']}, 'trade': {'get': ['ping', 'time', 'account/balances', 'account/details'], 'post': ['order/add', 'order/details', 'order/list/open', 'order/list/completed', 'order/list/all', 'order/trade-detail'], 'delete': ['order/cancel']}}\n",
      "https://api.crex24.comcurrencies\n",
      "https://api.cryptonbtc.comcurrencies\n",
      "unsupported operand type(s) for +=: 'dict' and 'str' {'web': {'get': ['Exchange/GetTradePairChart']}, 'public': {'get': ['GetCurrencies', 'GetTradePairs', 'GetMarkets', 'GetMarkets/{id}', 'GetMarkets/{hours}', 'GetMarkets/{id}/{hours}', 'GetMarket/{id}', 'GetMarket/{id}/{hours}', 'GetMarketHistory/{id}', 'GetMarketHistory/{id}/{hours}', 'GetMarketOrders/{id}', 'GetMarketOrders/{id}/{count}', 'GetMarketOrderGroups/{ids}', 'GetMarketOrderGroups/{ids}/{count}']}, 'private': {'post': ['CancelTrade', 'GetBalance', 'GetDepositAddress', 'GetOpenOrders', 'GetTradeHistory', 'GetTransactions', 'SubmitTip', 'SubmitTrade', 'SubmitTransfer', 'SubmitWithdraw']}}\n",
      "https://www.deribit.comtest\n",
      "unsupported operand type(s) for +=: 'dict' and 'str' {'public': {'get': ['barsFromMoment/{id}/{period}/{start}', 'depth/{pair}', 'info', 'lastBars/{id}/{period}/{amount}', 'periodBars/{id}/{period}/{start}/{end}', 'ticker/{pair}', 'trades/{pair}']}, 'private': {'post': ['info/account', 'history/transactions', 'history/trades', 'history/orders', 'orders', 'order/cancel', 'order/cancel/all', 'order/status', 'order/new', 'volume', 'fees']}, 'dwapi': {'post': ['deposit/cryptoaddress', 'withdraw/crypto', 'withdraw/fiat', 'withdraw/submit', 'withdraw/cancel', 'transaction/status']}}\n",
      "https://api.ethfinex.combook/{symbol}\n",
      "unsupported operand type(s) for +=: 'dict' and 'str' {'web': {'get': ['ctrl/feesAndLimits', 'en/docs/fees']}, 'public': {'get': ['currency', 'order_book', 'pair_settings', 'ticker', 'trades']}, 'private': {'post': ['user_info', 'order_create', 'order_cancel', 'user_open_orders', 'user_trades', 'user_cancelled_orders', 'order_trades', 'required_amount', 'deposit_address', 'withdraw_crypt', 'withdraw_get_txid', 'excode_create', 'excode_load', 'wallet_history']}}\n",
      "unsupported operand type(s) for +=: 'dict' and 'str' {'public': {'get': ['markets', 'tickers', 'ticker', 'depth', 'trades']}, 'private': {'get': ['order', 'cancel', 'getOrder', 'getOpenOrders', 'getBalance']}}\n",
      "https://api.{hostname}symbols\n",
      "unsupported operand type(s) for +=: 'dict' and 'str' {'public': {'get': ['{currency}/ticker', '{currency}/orderbook', '{currency}/trades']}, 'private': {'post': ['D', 'F', 'U2', 'U4', 'U6', 'U18', 'U24', 'U26', 'U30', 'U34', 'U70']}}\n",
      "https://www.fybsg.com/api/SGDticker\n",
      "unsupported operand type(s) for +=: 'dict' and 'str' {'public': {'get': ['candlestick2/{id}', 'pairs', 'marketinfo', 'marketlist', 'tickers', 'ticker/{id}', 'orderBook/{id}', 'trade/{id}', 'tradeHistory/{id}', 'tradeHistory/{id}/{tid}']}, 'private': {'post': ['balances', 'depositAddress', 'newAddress', 'depositsWithdrawals', 'buy', 'sell', 'cancelOrder', 'cancelAllOrders', 'getOrder', 'openOrders', 'tradeHistory', 'withdraw']}}\n",
      "https://api.gdax.comcurrencies\n",
      "https://api.gemini.comsymbols\n",
      "unsupported operand type(s) for +=: 'dict' and 'str' {'zendesk': {'get': ['360000400491-Trade-Limits']}, 'market': {'get': ['history/kline', 'detail/merged', 'depth', 'trade', 'history/trade', 'detail', 'tickers']}, 'public': {'get': ['hadax/common/symbols', 'hadax/common/currencys', 'common/timestamp', 'hadax/settings/currencys']}, 'private': {'get': ['account/accounts', 'hadax/account/accounts/{id}/balance', 'order/orders/{id}', 'order/orders/{id}/matchresults', 'order/orders', 'order/matchresults', 'dw/withdraw-virtual/addresses', 'dw/deposit-virtual/addresses', 'query/deposit-withdraw', 'margin/loan-orders', 'margin/accounts/balance'], 'post': ['hadax/order/orders/place', 'order/orders', 'order/orders/{id}/place', 'order/orders/{id}/submitcancel', 'order/orders/batchcancel', 'dw/balance/transfer', 'dw/withdraw/api/create', 'dw/withdraw-virtual/create', 'dw/withdraw-virtual/{id}/place', 'dw/withdraw-virtual/{id}/cancel', 'dw/transfer-in/margin', 'dw/transfer-out/margin', 'margin/orders', 'margin/orders/{id}/repay']}}\n",
      "https://api.hitbtc.comsymbol\n",
      "unsupported operand type(s) for +=: 'dict' and 'str' {'zendesk': {'get': ['360000400491-Trade-Limits']}, 'market': {'get': ['history/kline', 'detail/merged', 'depth', 'trade', 'history/trade', 'detail', 'tickers']}, 'public': {'get': ['common/symbols', 'common/currencys', 'common/timestamp', 'common/exchange', 'settings/currencys']}, 'private': {'get': ['account/accounts', 'account/accounts/{id}/balance', 'order/orders/{id}', 'order/orders/{id}/matchresults', 'order/orders', 'order/matchresults', 'dw/withdraw-virtual/addresses', 'dw/deposit-virtual/addresses', 'dw/deposit-virtual/sharedAddressWithTag', 'query/deposit-withdraw', 'margin/loan-orders', 'margin/accounts/balance', 'points/actions', 'points/orders', 'subuser/aggregate-balance'], 'post': ['order/orders/place', 'order/orders', 'order/orders/{id}/place', 'order/orders/{id}/submitcancel', 'order/orders/batchcancel', 'dw/balance/transfer', 'dw/withdraw/api/create', 'dw/withdraw-virtual/create', 'dw/withdraw-virtual/{id}/place', 'dw/withdraw-virtual/{id}/cancel', 'dw/transfer-in/margin', 'dw/transfer-out/margin', 'margin/orders', 'margin/orders/{id}/repay', 'subuser/transfer']}}\n",
      "unsupported operand type(s) for +=: 'dict' and 'str' {'zendesk': {'get': ['360000400491-Trade-Limits']}, 'market': {'get': ['history/kline', 'detail/merged', 'depth', 'trade', 'history/trade', 'detail', 'tickers']}, 'public': {'get': ['common/symbols', 'common/currencys', 'common/timestamp', 'common/exchange', 'settings/currencys']}, 'private': {'get': ['account/accounts', 'account/accounts/{id}/balance', 'order/orders/{id}', 'order/orders/{id}/matchresults', 'order/orders', 'order/matchresults', 'dw/withdraw-virtual/addresses', 'dw/deposit-virtual/addresses', 'dw/deposit-virtual/sharedAddressWithTag', 'query/deposit-withdraw', 'margin/loan-orders', 'margin/accounts/balance', 'points/actions', 'points/orders', 'subuser/aggregate-balance'], 'post': ['order/orders/place', 'order/orders', 'order/orders/{id}/place', 'order/orders/{id}/submitcancel', 'order/orders/batchcancel', 'dw/balance/transfer', 'dw/withdraw/api/create', 'dw/withdraw-virtual/create', 'dw/withdraw-virtual/{id}/place', 'dw/withdraw-virtual/{id}/cancel', 'dw/transfer-in/margin', 'dw/transfer-out/margin', 'margin/orders', 'margin/orders/{id}/repay', 'subuser/transfer']}}\n",
      "unsupported operand type(s) for +=: 'dict' and 'str' {'public': {'get': ['GetValidPrimaryCurrencyCodes', 'GetValidSecondaryCurrencyCodes', 'GetValidLimitOrderTypes', 'GetValidMarketOrderTypes', 'GetValidOrderTypes', 'GetValidTransactionTypes', 'GetMarketSummary', 'GetOrderBook', 'GetTradeHistorySummary', 'GetRecentTrades', 'GetFxRates']}, 'private': {'post': ['PlaceLimitOrder', 'PlaceMarketOrder', 'CancelOrder', 'GetOpenOrders', 'GetClosedOrders', 'GetClosedFilledOrders', 'GetOrderDetails', 'GetAccounts', 'GetTransactions', 'GetDigitalCurrencyDepositAddress', 'GetDigitalCurrencyDepositAddresses', 'SynchDigitalCurrencyDepositAddressWithBlockchain', 'WithdrawDigitalCurrency', 'RequestFiatWithdrawal', 'GetTrades']}}\n",
      "unsupported operand type(s) for +=: 'dict' and 'str' {'public': {'get': ['{pair}/ticker', '{pair}/trades', '{pair}/depth']}, 'private': {'post': ['getInfo', 'transHistory', 'trade', 'tradeHistory', 'getOrder', 'openOrders', 'cancelOrder', 'orderHistory', 'withdrawCoin']}}\n",
      "https://api.itbit.commarkets/{symbol}/ticker\n",
      "unsupported operand type(s) for +=: 'dict' and 'str' {'public': {'get': ['exchange_rate', 'products', 'assets', 'tickers', 'ticker', 'depth', 'trades', 'kline']}, 'private': {'post': ['profile', 'trade', 'batch_trade', 'cancel_order', 'cancel_all_orders', 'order_history', 'userinfo', 'order_info', 'orders_info']}, 'v1': {'post': ['process_strategy']}}\n",
      "unsupported operand type(s) for +=: 'dict' and 'str' {'zendesk': {'get': ['205893708-What-is-the-minimum-order-size-', '201396777-What-are-the-deposit-fees-', '201893608-What-are-the-withdrawal-fees-']}, 'public': {'get': ['Assets', 'AssetPairs', 'Depth', 'OHLC', 'Spread', 'Ticker', 'Time', 'Trades']}, 'private': {'post': ['AddOrder', 'AddExport', 'Balance', 'CancelOrder', 'ClosedOrders', 'DepositAddresses', 'DepositMethods', 'DepositStatus', 'ExportStatus', 'Ledgers', 'OpenOrders', 'OpenPositions', 'QueryLedgers', 'QueryOrders', 'QueryTrades', 'RetrieveExport', 'RemoveExport', 'TradeBalance', 'TradesHistory', 'TradeVolume', 'Withdraw', 'WithdrawCancel', 'WithdrawInfo', 'WithdrawStatus']}}\n",
      "unsupported operand type(s) for +=: 'dict' and 'str' {'public': {'get': ['timestamp', 'symbols', 'market/allTickers', 'market/orderbook/level{level}', 'market/histories', 'market/candles', 'market/stats', 'currencies', 'currencies/{currency}'], 'post': ['bullet-public']}, 'private': {'get': ['accounts', 'accounts/{accountId}', 'accounts/{accountId}/ledgers', 'accounts/{accountId}/holds', 'deposit-addresses', 'deposits', 'hist-deposits', 'hist-orders', 'hist-withdrawals', 'withdrawals', 'withdrawals/quotas', 'orders', 'orders/{orderId}', 'fills', 'limit/fills'], 'post': ['accounts', 'accounts/inner-transfer', 'deposit-addresses', 'withdrawals', 'orders', 'bullet-private'], 'delete': ['withdrawals/{withdrawalId}', 'orders/{orderId}']}}\n",
      "unsupported operand type(s) for +=: 'dict' and 'str' {'public': {'get': ['timestamp', 'symbols', 'market/allTickers', 'market/orderbook/level{level}', 'market/histories', 'market/candles', 'market/stats', 'currencies', 'currencies/{currency}'], 'post': ['bullet-public']}, 'private': {'get': ['accounts', 'accounts/{accountId}', 'accounts/{accountId}/ledgers', 'accounts/{accountId}/holds', 'deposit-addresses', 'deposits', 'hist-deposits', 'hist-orders', 'hist-withdrawals', 'withdrawals', 'withdrawals/quotas', 'orders', 'orders/{orderId}', 'fills', 'limit/fills'], 'post': ['accounts', 'accounts/inner-transfer', 'deposit-addresses', 'withdrawals', 'orders', 'bullet-private'], 'delete': ['withdrawals/{withdrawalId}', 'orders/{orderId}']}}\n",
      "https://kuna.iodepth\n",
      "https://api.lakebtc.combcorderbook\n",
      "https://api.liquid.comcurrencies\n",
      "https://api.mybitx.com/apiorderbook\n",
      "'get' {'logo': 'https://user-images.githubusercontent.com/1294454/54686665-df629400-4b2a-11e9-84d3-d88856367dd7.jpg', 'api': 'https://zapi.{hostname}', 'www': 'https://mandalaex.com', 'doc': ['https://documenter.getpostman.com/view/6273708/RznBP1Hh'], 'fees': ['https://mandalaex.com/trading-rules/'], 'referral': 'https://trade.mandalaex.com/?ref=564377'} {'settings': {'get': ['getCoinInfo', 'GetSettings', 'CurrencySettings', 'Get_Withdrawal_Limits']}, 'token': {'post': ['token']}, 'public': {'post': ['AuthenticateUser', 'ForgotPassword', 'SignUp', 'check_Duplicate_Mobile', 'check_Duplicate_Email']}, 'api': {'get': ['GAuth_Check_Status', 'GAuth_Enable_Request', 'GetProfile', 'Loginhistory', 'ListAllAddresses', 'Get_User_Withdrawal_Limits', 'GetPendingOrders', 'TradeHistory', 'GOKYC_Get_Kyc_Form', 'language_list', 'language', 'get_page_n_content', 'GetExchangeTokenDiscountEnrollmentStatus', 'GetDiscountTiers', 'My_Affiliate', 'Affiliate_Summary', 'Affiliate_Commission', 'List_Fiat_Manual_Deposit_Requests', 'List_Fiat_BanksList/YCN/', 'Get_Fiat_PGs', 'get_insta_pairs', 'hmac'], 'post': ['GAuth_Set_Enable', 'GAuth_Disable_Request', 'VerifyAccount', 'SignUp_Resend_Email', 'AuthenticateUser_Resend_EmailOTP/{tempAuthToken}', 'Validate_BearerToken', 'RequestChangePasswordOT', 'ChangePassword', 'ResetPassword', 'GenerateAddress', 'GetBalance', 'GetDeposits', 'GetWithdrawals', 'RequestWithdraw', 'RequestWithdrawConfirmation', 'RequestTransfer_AeraPass', 'PlaceOrder', 'PlaceOrder_Priced', 'CancelOrder', 'KYC_GetSumAndSub_AccessToken', 'KYC_SaveSumAndSubstanceApplicationId', 'GOKYC_Submit_KYC_Form', 'SetExchangeTokenDiscountEnrollment', 'Dis_Enroll_ExchangeTokenDiscount', 'Webhook_BitGoDeposit', 'Add_Fiat_Manual_Deposit_Request', 'Add_Fiat_Manual_Withdrawal_Request', 'Add_Fiat_PG_Deposit_Request', 'ListApiKey', 'GenerateApiKey', 'DeleteApiKey', 'request_insta_trade', 'confirm_insta_trade', 'simplex_get_quote', 'simplex_payment', 'hmac', 'import_translations']}, 'market': {'get': ['get-market-summary', 'get-market-summary/{marketId}', 'get-trade-history/{marketId}', 'get-bid_ask-price/{marketId}', 'get-open-orders/{marketId}/{side}/{depth}', 'get-currency-price/{marketId}', 'get-currency-usd-rate/{currencyId}', 'depth', 'get-chart-data']}, 'order': {'get': ['my-order-history/{key}/{side}', 'my-order-history/{key}/{side}/{orderId}', 'my-order-status/{key}/{side}/{orderId}', 'my-trade-history', 'hmac'], 'post': ['PlaceOrder', 'cancel-my-order', 'cancel-all-my-orders', 'get-balance']}}\n",
      "unsupported operand type(s) for +=: 'dict' and 'str' {'public': {'get': ['{PAR}/ticker', '{PAR}/orderbook', '{PAR}/trades', '{PAR}/trades/{timestamp_inicial}', '{PAR}/trades/{timestamp_inicial}/{timestamp_final}']}, 'private': {'get': ['user/balance', 'user/order/{orderId}'], 'post': ['user/order', 'user/orders'], 'delete': ['user/order/{orderId}']}}\n",
      "https://novaexchange.com/remotemarkets/\n",
      "unsupported operand type(s) for +=: 'dict' and 'str' {'web': {'get': ['futures/pc/market/marketOverview', 'spot/markets/index-tickers', 'spot/markets/currencies', 'spot/markets/products', 'spot/markets/tickers', 'spot/user-level']}, 'public': {'get': ['depth', 'exchange_rate', 'future_depth', 'future_estimated_price', 'future_hold_amount', 'future_index', 'future_kline', 'future_price_limit', 'future_ticker', 'future_trades', 'kline', 'otcs', 'ticker', 'tickers', 'trades']}, 'private': {'post': ['account_records', 'batch_trade', 'borrow_money', 'borrow_order_info', 'borrows_info', 'cancel_borrow', 'cancel_order', 'cancel_otc_order', 'cancel_withdraw', 'funds_transfer', 'future_batch_trade', 'future_cancel', 'future_devolve', 'future_explosive', 'future_order_info', 'future_orders_info', 'future_position', 'future_position_4fix', 'future_trade', 'future_trades_history', 'future_userinfo', 'future_userinfo_4fix', 'lend_depth', 'order_fee', 'order_history', 'order_info', 'orders_info', 'otc_order_history', 'otc_order_info', 'repayment', 'submit_otc_order', 'trade', 'trade_history', 'trade_otc_order', 'wallet_info', 'withdraw', 'withdraw_info', 'unrepayments_info', 'userinfo']}}\n",
      "unsupported operand type(s) for +=: 'dict' and 'str' {'web': {'get': ['futures/pc/market/marketOverview', 'spot/markets/index-tickers', 'spot/markets/currencies', 'spot/markets/products', 'spot/markets/tickers', 'spot/user-level']}, 'public': {'get': ['depth', 'exchange_rate', 'future_depth', 'future_estimated_price', 'future_hold_amount', 'future_index', 'future_kline', 'future_price_limit', 'future_ticker', 'future_trades', 'kline', 'otcs', 'ticker', 'tickers', 'trades']}, 'private': {'post': ['account_records', 'batch_trade', 'borrow_money', 'borrow_order_info', 'borrows_info', 'cancel_borrow', 'cancel_order', 'cancel_otc_order', 'cancel_withdraw', 'funds_transfer', 'future_batch_trade', 'future_cancel', 'future_devolve', 'future_explosive', 'future_order_info', 'future_orders_info', 'future_position', 'future_position_4fix', 'future_trade', 'future_trades_history', 'future_userinfo', 'future_userinfo_4fix', 'lend_depth', 'order_fee', 'order_history', 'order_info', 'orders_info', 'otc_order_history', 'otc_order_info', 'repayment', 'submit_otc_order', 'trade', 'trade_history', 'trade_otc_order', 'wallet_info', 'withdraw', 'withdraw_info', 'unrepayments_info', 'userinfo']}}\n",
      "https://paymium.com/apicountries\n",
      "https://www.southxchange.com/apimarkets\n",
      "unsupported operand type(s) for +=: 'dict' and 'str' {'public': {'get': ['{currency}/ticker', '{currency}/orderbook', '{currency}/trades']}, 'private': {'post': ['D', 'F', 'U2', 'U4', 'U6', 'U18', 'U24', 'U26', 'U30', 'U34', 'U70']}}\n",
      "https://api.therocktrading.comfunds\n",
      "https://www.tidebit.commarkets\n",
      "unsupported operand type(s) for +=: 'dict' and 'str' {'public': {'get': ['info', 'ticker/{pair}', 'depth/{pair}', 'trades/{pair}']}, 'private': {'post': ['getInfo', 'Trade', 'ActiveOrders', 'OrderInfo', 'CancelOrder', 'TradeHistory', 'CoinDepositAddress', 'WithdrawCoin', 'CreateCoupon', 'RedeemCoupon']}, 'web': {'get': ['currency', 'pairs', 'tickers', 'orders', 'ordershistory', 'trade-data', 'trade-data/{id}']}}\n",
      "https://api.upbit.commarket/all\n",
      "unsupported operand type(s) for +=: 'dict' and 'str' {'public': {'get': ['{currency}/ticker', '{currency}/orderbook', '{currency}/trades']}, 'private': {'post': ['D', 'F', 'U2', 'U4', 'U6', 'U18', 'U24', 'U26', 'U30', 'U34', 'U70']}}\n",
      "https://api.vaultoro.combidandask\n",
      "unsupported operand type(s) for +=: 'dict' and 'str' {'public': {'get': ['{currency}/ticker', '{currency}/orderbook', '{currency}/trades']}, 'private': {'post': ['D', 'F', 'U2', 'U4', 'U6', 'U18', 'U24', 'U26', 'U30', 'U34', 'U70']}}\n",
      "unsupported operand type(s) for +=: 'dict' and 'str' {'public': {'get': ['getInstruments', 'getBestPrices', 'getMarketDepth', 'estimateMarketOrder', 'getTradedPriceVolume', 'getRawTradeData', 'getStatistics', 'getTerminalList', 'getGridList', 'getGridStatistics'], 'post': ['getInstruments', 'getBestPrices', 'getMarketDepth', 'estimateMarketOrder', 'getTradedPriceVolume', 'getRawTradeData', 'getStatistics', 'getTerminalList', 'getGridList', 'getGridStatistics']}, 'private': {'get': ['cancelOrder', 'getBalances', 'getCommissionDiscount', 'getOrders', 'getTransactions', 'placeOrder'], 'post': ['cancelOrder', 'getBalances', 'getCommissionDiscount', 'getOrders', 'getTransactions', 'placeOrder']}}\n",
      "https://api.zaif.jpdepth/{pair}\n",
      "unsupported operand type(s) for +=: 'dict' and 'str' {'public': {'get': ['markets', 'ticker', 'allTicker', 'depth', 'trades', 'kline']}, 'private': {'get': ['order', 'cancelOrder', 'getOrder', 'getOrders', 'getOrdersNew', 'getOrdersIgnoreTradeType', 'getUnfinishedOrdersIgnoreTradeType', 'getAccountInfo', 'getUserAddress', 'getWithdrawAddress', 'getWithdrawRecord', 'getChargeRecord', 'getCnyWithdrawRecord', 'getCnyChargeRecord', 'withdraw', 'getLeverAssetsInfo', 'getLeverBills', 'transferInLever', 'transferOutLever', 'loan', 'cancelLoan', 'getLoans', 'getLoanRecords', 'borrow', 'repay', 'getRepayments']}}\n"
     ]
    }
   ],
   "source": [
    "t = datetime.datetime(2018,1,1)\n",
    "for x in xchanges:\n",
    "    desc = x.describe()\n",
    "    try:\n",
    "        url =  desc['urls']['api']  if not 'public' in desc['urls'] else desc['urls']['public'][0]\n",
    "        url += desc['api'][0] if 'public' not in desc['api'] else desc['api']['public']['get'][0]\n",
    "        print(url)\n",
    "    except KeyError as e:\n",
    "        print(e, desc['urls'], desc['api'])\n",
    "    except TypeError as e:\n",
    "        print(e, desc['api'])\n",
    "#     data = x.fetch_ohlcv('ETH/BTC', since=int(t.timestamp()))\n",
    "#     df = pd.DataFrame(data, columns=['date', 'open', 'high', 'low', 'close', 'volume'])\n",
    "#     df.date = pd.to_datetime(df.date)\n",
    "#     df.set_index('date')\n",
    "#     df"
   ]
  },
  {
   "cell_type": "code",
   "execution_count": 7,
   "metadata": {},
   "outputs": [
    {
     "data": {
      "text/plain": [
       "1514772000.0"
      ]
     },
     "execution_count": 7,
     "metadata": {},
     "output_type": "execute_result"
    }
   ],
   "source": [
    "t.timestamp()"
   ]
  },
  {
   "cell_type": "code",
   "execution_count": 8,
   "metadata": {},
   "outputs": [
    {
     "ename": "NameError",
     "evalue": "name 'data' is not defined",
     "output_type": "error",
     "traceback": [
      "\u001b[0;31m---------------------------------------------------------------------------\u001b[0m",
      "\u001b[0;31mNameError\u001b[0m                                 Traceback (most recent call last)",
      "\u001b[0;32m<ipython-input-8-c5d84736ba45>\u001b[0m in \u001b[0;36m<module>\u001b[0;34m\u001b[0m\n\u001b[0;32m----> 1\u001b[0;31m \u001b[0mdata\u001b[0m\u001b[0;34m\u001b[0m\u001b[0;34m\u001b[0m\u001b[0m\n\u001b[0m",
      "\u001b[0;31mNameError\u001b[0m: name 'data' is not defined"
     ]
    }
   ],
   "source": [
    "data"
   ]
  },
  {
   "cell_type": "markdown",
   "metadata": {},
   "source": [
    "## Finding the beginning of the Poloniex Trade history series\n",
    "from previous explorations I know that poloniex data starts somewhere in february 2015, so let's find the exact day."
   ]
  },
  {
   "cell_type": "code",
   "execution_count": 9,
   "metadata": {},
   "outputs": [
    {
     "name": "stdout",
     "output_type": "stream",
     "text": [
      "tried 2015-02-01 00:00:00, nothing.\n",
      "tried 2015-02-02 00:00:00, nothing.\n",
      "tried 2015-02-03 00:00:00, nothing.\n",
      "tried 2015-02-04 00:00:00, nothing.\n",
      "tried 2015-02-05 00:00:00, nothing.\n",
      "tried 2015-02-06 00:00:00, nothing.\n",
      "tried 2015-02-07 00:00:00, nothing.\n",
      "tried 2015-02-08 00:00:00, nothing.\n",
      "tried 2015-02-09 00:00:00, nothing.\n",
      "tried 2015-02-10 00:00:00, nothing.\n",
      "tried 2015-02-11 00:00:00, nothing.\n",
      "tried 2015-02-12 00:00:00, nothing.\n",
      "tried 2015-02-13 00:00:00, nothing.\n",
      "tried 2015-02-14 00:00:00, nothing.\n",
      "tried 2015-02-15 00:00:00, nothing.\n",
      "tried 2015-02-16 00:00:00, nothing.\n",
      "tried 2015-02-17 00:00:00, nothing.\n",
      "tried 2015-02-18 00:00:00, nothing.\n",
      "fetched 84 USDT_BTC trades.\n",
      "==> Found it: 2015-02-19 00:00:00\n",
      "                       amount  globalTradeID  orderNumber  rate      total  \\\n",
      "date                                                                         \n",
      "2015-02-19 22:37:58  0.000002        7132842    105469000   244   0.000437   \n",
      "2015-02-19 20:48:17  0.042526        7131958    105419916   244  10.376329   \n",
      "2015-02-19 20:48:16  0.017520        7131936    105419906   244   4.274897   \n",
      "2015-02-19 20:21:01  0.001127        7131771    105407366   240   0.270514   \n",
      "2015-02-19 20:21:00  0.026393        7131763    105407351   240   6.334411   \n",
      "2015-02-19 20:21:00  0.026393        7131761    105407345   240   6.334438   \n",
      "2015-02-19 20:20:30  0.023817        7131760    105407122   240   5.715998   \n",
      "2015-02-19 20:20:30  0.031000        7131759    105407122   238   7.378000   \n",
      "2015-02-19 20:20:30  0.011400        7131758    105407122   235   2.679000   \n",
      "2015-02-19 20:20:30  0.000112        7131757    105407122   234   0.026297   \n",
      "2015-02-19 20:20:30  0.008382        7131756    105407122   225   1.885993   \n",
      "2015-02-19 19:14:15  0.004444        7131405    105376514   225   0.999999   \n",
      "\n",
      "                     tradeID  type  \n",
      "date                                \n",
      "2015-02-19 22:37:58       12   buy  \n",
      "2015-02-19 20:48:17       11   buy  \n",
      "2015-02-19 20:48:16       10   buy  \n",
      "2015-02-19 20:21:01        9  sell  \n",
      "2015-02-19 20:21:00        8  sell  \n",
      "2015-02-19 20:21:00        7  sell  \n",
      "2015-02-19 20:20:30        6   buy  \n",
      "2015-02-19 20:20:30        5   buy  \n",
      "2015-02-19 20:20:30        4   buy  \n",
      "2015-02-19 20:20:30        3   buy  \n",
      "2015-02-19 20:20:30        2   buy  \n",
      "2015-02-19 19:14:15        1   buy  \n"
     ]
    }
   ],
   "source": [
    "import poloniex\n",
    "start = datetime.datetime(2015,2,1)\n",
    "while True:\n",
    "    end = start + datetime.timedelta(days=1)\n",
    "    try: \n",
    "        df = poloniex.get_full_table('USDT_BTC', start, end)\n",
    "        print(\"==> Found it: {}\".format(start))\n",
    "        print(df)\n",
    "        break\n",
    "    except Exception as e:\n",
    "        print(\"tried {}, nothing.\".format(start))\n",
    "        start += datetime.timedelta(days=1)\n",
    "        continue"
   ]
  },
  {
   "cell_type": "code",
   "execution_count": 5,
   "metadata": {},
   "outputs": [],
   "source": [
    "datetime.timedelta?"
   ]
  },
  {
   "cell_type": "code",
   "execution_count": null,
   "metadata": {},
   "outputs": [],
   "source": []
  }
 ],
 "metadata": {
  "kernelspec": {
   "display_name": "Python 3",
   "language": "python",
   "name": "python3"
  },
  "language_info": {
   "codemirror_mode": {
    "name": "ipython",
    "version": 3
   },
   "file_extension": ".py",
   "mimetype": "text/x-python",
   "name": "python",
   "nbconvert_exporter": "python",
   "pygments_lexer": "ipython3",
   "version": "3.6.8"
  }
 },
 "nbformat": 4,
 "nbformat_minor": 2
}
