{
 "cells": [
  {
   "cell_type": "markdown",
   "metadata": {},
   "source": [
    "# Introduction the Enigma-Catalyst library"
   ]
  },
  {
   "cell_type": "code",
   "execution_count": 1,
   "metadata": {},
   "outputs": [],
   "source": [
    "from catalyst.api import order, record, symbol\n",
    "%matplotlib inline"
   ]
  },
  {
   "cell_type": "code",
   "execution_count": 5,
   "metadata": {},
   "outputs": [
    {
     "name": "stdout",
     "output_type": "stream",
     "text": [
      "Ingesting exchange bundle bitfinex...\n",
      "\u001b[?25l    [====================================]  Ingesting minute price data on bitfinex:  100%             \u001b[?25h\n"
     ]
    }
   ],
   "source": [
    "!catalyst ingest-exchange -x bitfinex -i btc_usd -f minute"
   ]
  },
  {
   "cell_type": "code",
   "execution_count": 2,
   "metadata": {},
   "outputs": [],
   "source": [
    "# Register the catalyst magic\n",
    "%load_ext catalyst"
   ]
  },
  {
   "cell_type": "code",
   "execution_count": 6,
   "metadata": {},
   "outputs": [
    {
     "ename": "UnsupportedOperation",
     "evalue": "not writable",
     "output_type": "error",
     "traceback": [
      "\u001b[0;31m---------------------------------------------------------------------------\u001b[0m",
      "\u001b[0;31mUnsupportedOperation\u001b[0m                      Traceback (most recent call last)",
      "\u001b[0;32m<ipython-input-6-362584dbf4b3>\u001b[0m in \u001b[0;36m<module>\u001b[0;34m()\u001b[0m\n\u001b[0;32m----> 1\u001b[0;31m \u001b[0mget_ipython\u001b[0m\u001b[0;34m(\u001b[0m\u001b[0;34m)\u001b[0m\u001b[0;34m.\u001b[0m\u001b[0mrun_cell_magic\u001b[0m\u001b[0;34m(\u001b[0m\u001b[0;34m'catalyst'\u001b[0m\u001b[0;34m,\u001b[0m \u001b[0;34m'--start 2015-3-1 --end 2017-6-28 --capital-base 100000 -x bitfinex -c usd'\u001b[0m\u001b[0;34m,\u001b[0m \u001b[0;34m\"\\nfrom catalyst.finance.slippage import VolumeShareSlippage\\n\\nfrom catalyst.api import (\\n    order_target_value,\\n    symbol,\\n    record,\\n    cancel_order,\\n    get_open_orders,\\n)\\n\\ndef initialize(context):\\n    context.ASSET_NAME = 'btc_usd'\\n    context.TARGET_HODL_RATIO = 0.8\\n    context.RESERVE_RATIO = 1.0 - context.TARGET_HODL_RATIO\\n\\n    # For all trading pairs in the poloniex bundle, the default denomination\\n    # currently supported by Catalyst is 1/1000th of a full coin. Use this\\n    # constant to scale the price of up to that of a full coin if desired.\\n    context.TICK_SIZE = 1000.0\\n\\n    context.is_buying = True\\n    context.asset = symbol(context.ASSET_NAME)\\n\\n    context.i = 0\\n\\ndef handle_data(context, data):\\n    context.i += 1\\n\\n    starting_cash = context.portfolio.starting_cash\\n    target_hodl_value = context.TARGET_HODL_RATIO * starting_cash\\n    reserve_value = context.RESERVE_RATIO * starting_cash\\n\\n    # Cancel any outstanding orders\\n    orders = get_open_orders(context.asset) or []\\n    for order in orders:\\n        cancel_order(order)\\n    \\n    # Stop buying after passing the reserve threshold\\n    cash = context.portfolio.cash\\n    if cash <= reserve_value:\\n        context.is_buying = False\\n\\n    # Retrieve current asset price from pricing data\\n    price = data.current(context.asset,'price')\\n\\n    # Check if still buying and could (approximately) afford another purchase\\n    if context.is_buying and cash > price:\\n        # Place order to make position in asset equal to target_hodl_value\\n        order_target_value(\\n            context.asset,\\n            target_hodl_value,\\n            limit_price=price*1.1,\\n        )\\n\\n    record(\\n        price=price,\\n        volume=data.current(context.asset,'volume'),\\n        cash=cash,\\n        starting_cash=context.portfolio.starting_cash,\\n        leverage=context.account.leverage,\\n    )\\n\\ndef analyze(context=None, results=None):\\n    import matplotlib.pyplot as plt\\n\\n    # Plot the portfolio and asset data.\\n    ax1 = plt.subplot(611)\\n    results[['portfolio_value']].plot(ax=ax1)\\n    ax1.set_ylabel('Portfolio Value (USD)')\\n\\n    ax2 = plt.subplot(612, sharex=ax1)\\n    ax2.set_ylabel('{asset} (USD)'.format(asset=context.ASSET_NAME))\\n    (context.TICK_SIZE * results[['price']]).plot(ax=ax2)\\n\\n    trans = results.ix[[t != [] for t in results.transactions]]\\n    buys = trans.ix[\\n        [t[0]['amount'] > 0 for t in trans.transactions]\\n    ]\\n    ax2.plot(\\n        buys.index,\\n        context.TICK_SIZE * results.price[buys.index],\\n        '^',\\n        markersize=10,\\n        color='g',\\n    )\\n\\n    ax3 = plt.subplot(613, sharex=ax1)\\n    results[['leverage', 'alpha', 'beta']].plot(ax=ax3)\\n    ax3.set_ylabel('Leverage ')\\n\\n    ax4 = plt.subplot(614, sharex=ax1)\\n    results[['starting_cash', 'cash']].plot(ax=ax4)\\n    ax4.set_ylabel('Cash (USD)')\\n\\n    results[[\\n        'treasury',\\n        'algorithm',\\n        'benchmark',\\n    ]] = results[[\\n        'treasury_period_return',\\n        'algorithm_period_return',\\n        'benchmark_period_return',\\n    ]]\\n\\n    ax5 = plt.subplot(615, sharex=ax1)\\n    results[[\\n        'treasury',\\n        'algorithm',\\n        'benchmark',\\n    ]].plot(ax=ax5)\\n    ax5.set_ylabel('Percent Change')\\n\\n    ax6 = plt.subplot(616, sharex=ax1)\\n    results[['volume']].plot(ax=ax6)\\n    ax6.set_ylabel('Volume (mCoins/5min)')\\n\\n    plt.legend(loc=3)\\n\\n    # Show the plot.\\n    plt.gcf().set_size_inches(18, 8)\\n    plt.show()\"\u001b[0m\u001b[0;34m)\u001b[0m\u001b[0;34m\u001b[0m\u001b[0m\n\u001b[0m",
      "\u001b[0;32m/usr/local/lib/python3.6/dist-packages/IPython/core/interactiveshell.py\u001b[0m in \u001b[0;36mrun_cell_magic\u001b[0;34m(self, magic_name, line, cell)\u001b[0m\n\u001b[1;32m   2129\u001b[0m             \u001b[0mmagic_arg_s\u001b[0m \u001b[0;34m=\u001b[0m \u001b[0mself\u001b[0m\u001b[0;34m.\u001b[0m\u001b[0mvar_expand\u001b[0m\u001b[0;34m(\u001b[0m\u001b[0mline\u001b[0m\u001b[0;34m,\u001b[0m \u001b[0mstack_depth\u001b[0m\u001b[0;34m)\u001b[0m\u001b[0;34m\u001b[0m\u001b[0m\n\u001b[1;32m   2130\u001b[0m             \u001b[0;32mwith\u001b[0m \u001b[0mself\u001b[0m\u001b[0;34m.\u001b[0m\u001b[0mbuiltin_trap\u001b[0m\u001b[0;34m:\u001b[0m\u001b[0;34m\u001b[0m\u001b[0m\n\u001b[0;32m-> 2131\u001b[0;31m                 \u001b[0mresult\u001b[0m \u001b[0;34m=\u001b[0m \u001b[0mfn\u001b[0m\u001b[0;34m(\u001b[0m\u001b[0mmagic_arg_s\u001b[0m\u001b[0;34m,\u001b[0m \u001b[0mcell\u001b[0m\u001b[0;34m)\u001b[0m\u001b[0;34m\u001b[0m\u001b[0m\n\u001b[0m\u001b[1;32m   2132\u001b[0m             \u001b[0;32mreturn\u001b[0m \u001b[0mresult\u001b[0m\u001b[0;34m\u001b[0m\u001b[0m\n\u001b[1;32m   2133\u001b[0m \u001b[0;34m\u001b[0m\u001b[0m\n",
      "\u001b[0;32m/usr/local/lib/python3.6/dist-packages/catalyst/__main__.py\u001b[0m in \u001b[0;36mcatalyst_magic\u001b[0;34m(line, cell)\u001b[0m\n\u001b[1;32m    322\u001b[0m             \u001b[0;34m'%s%%catalyst'\u001b[0m \u001b[0;34m%\u001b[0m \u001b[0;34m(\u001b[0m\u001b[0;34m(\u001b[0m\u001b[0mcell\u001b[0m \u001b[0;32mor\u001b[0m \u001b[0;34m''\u001b[0m\u001b[0;34m)\u001b[0m \u001b[0;32mand\u001b[0m \u001b[0;34m'%'\u001b[0m\u001b[0;34m)\u001b[0m\u001b[0;34m,\u001b[0m\u001b[0;34m\u001b[0m\u001b[0m\n\u001b[1;32m    323\u001b[0m             \u001b[0;31m# don't use system exit and propogate errors to the caller\u001b[0m\u001b[0;34m\u001b[0m\u001b[0;34m\u001b[0m\u001b[0m\n\u001b[0;32m--> 324\u001b[0;31m             \u001b[0mstandalone_mode\u001b[0m\u001b[0;34m=\u001b[0m\u001b[0;32mFalse\u001b[0m\u001b[0;34m,\u001b[0m\u001b[0;34m\u001b[0m\u001b[0m\n\u001b[0m\u001b[1;32m    325\u001b[0m         )\n\u001b[1;32m    326\u001b[0m     \u001b[0;32mexcept\u001b[0m \u001b[0mSystemExit\u001b[0m \u001b[0;32mas\u001b[0m \u001b[0me\u001b[0m\u001b[0;34m:\u001b[0m\u001b[0;34m\u001b[0m\u001b[0m\n",
      "\u001b[0;32m/usr/local/lib/python3.6/dist-packages/click/core.py\u001b[0m in \u001b[0;36mmain\u001b[0;34m(self, args, prog_name, complete_var, standalone_mode, **extra)\u001b[0m\n\u001b[1;32m    695\u001b[0m             \u001b[0;32mtry\u001b[0m\u001b[0;34m:\u001b[0m\u001b[0;34m\u001b[0m\u001b[0m\n\u001b[1;32m    696\u001b[0m                 \u001b[0;32mwith\u001b[0m \u001b[0mself\u001b[0m\u001b[0;34m.\u001b[0m\u001b[0mmake_context\u001b[0m\u001b[0;34m(\u001b[0m\u001b[0mprog_name\u001b[0m\u001b[0;34m,\u001b[0m \u001b[0margs\u001b[0m\u001b[0;34m,\u001b[0m \u001b[0;34m**\u001b[0m\u001b[0mextra\u001b[0m\u001b[0;34m)\u001b[0m \u001b[0;32mas\u001b[0m \u001b[0mctx\u001b[0m\u001b[0;34m:\u001b[0m\u001b[0;34m\u001b[0m\u001b[0m\n\u001b[0;32m--> 697\u001b[0;31m                     \u001b[0mrv\u001b[0m \u001b[0;34m=\u001b[0m \u001b[0mself\u001b[0m\u001b[0;34m.\u001b[0m\u001b[0minvoke\u001b[0m\u001b[0;34m(\u001b[0m\u001b[0mctx\u001b[0m\u001b[0;34m)\u001b[0m\u001b[0;34m\u001b[0m\u001b[0m\n\u001b[0m\u001b[1;32m    698\u001b[0m                     \u001b[0;32mif\u001b[0m \u001b[0;32mnot\u001b[0m \u001b[0mstandalone_mode\u001b[0m\u001b[0;34m:\u001b[0m\u001b[0;34m\u001b[0m\u001b[0m\n\u001b[1;32m    699\u001b[0m                         \u001b[0;32mreturn\u001b[0m \u001b[0mrv\u001b[0m\u001b[0;34m\u001b[0m\u001b[0m\n",
      "\u001b[0;32m/usr/local/lib/python3.6/dist-packages/click/core.py\u001b[0m in \u001b[0;36minvoke\u001b[0;34m(self, ctx)\u001b[0m\n\u001b[1;32m    893\u001b[0m         \"\"\"\n\u001b[1;32m    894\u001b[0m         \u001b[0;32mif\u001b[0m \u001b[0mself\u001b[0m\u001b[0;34m.\u001b[0m\u001b[0mcallback\u001b[0m \u001b[0;32mis\u001b[0m \u001b[0;32mnot\u001b[0m \u001b[0;32mNone\u001b[0m\u001b[0;34m:\u001b[0m\u001b[0;34m\u001b[0m\u001b[0m\n\u001b[0;32m--> 895\u001b[0;31m             \u001b[0;32mreturn\u001b[0m \u001b[0mctx\u001b[0m\u001b[0;34m.\u001b[0m\u001b[0minvoke\u001b[0m\u001b[0;34m(\u001b[0m\u001b[0mself\u001b[0m\u001b[0;34m.\u001b[0m\u001b[0mcallback\u001b[0m\u001b[0;34m,\u001b[0m \u001b[0;34m**\u001b[0m\u001b[0mctx\u001b[0m\u001b[0;34m.\u001b[0m\u001b[0mparams\u001b[0m\u001b[0;34m)\u001b[0m\u001b[0;34m\u001b[0m\u001b[0m\n\u001b[0m\u001b[1;32m    896\u001b[0m \u001b[0;34m\u001b[0m\u001b[0m\n\u001b[1;32m    897\u001b[0m \u001b[0;34m\u001b[0m\u001b[0m\n",
      "\u001b[0;32m/usr/local/lib/python3.6/dist-packages/click/core.py\u001b[0m in \u001b[0;36minvoke\u001b[0;34m(*args, **kwargs)\u001b[0m\n\u001b[1;32m    533\u001b[0m         \u001b[0;32mwith\u001b[0m \u001b[0maugment_usage_errors\u001b[0m\u001b[0;34m(\u001b[0m\u001b[0mself\u001b[0m\u001b[0;34m)\u001b[0m\u001b[0;34m:\u001b[0m\u001b[0;34m\u001b[0m\u001b[0m\n\u001b[1;32m    534\u001b[0m             \u001b[0;32mwith\u001b[0m \u001b[0mctx\u001b[0m\u001b[0;34m:\u001b[0m\u001b[0;34m\u001b[0m\u001b[0m\n\u001b[0;32m--> 535\u001b[0;31m                 \u001b[0;32mreturn\u001b[0m \u001b[0mcallback\u001b[0m\u001b[0;34m(\u001b[0m\u001b[0;34m*\u001b[0m\u001b[0margs\u001b[0m\u001b[0;34m,\u001b[0m \u001b[0;34m**\u001b[0m\u001b[0mkwargs\u001b[0m\u001b[0;34m)\u001b[0m\u001b[0;34m\u001b[0m\u001b[0m\n\u001b[0m\u001b[1;32m    536\u001b[0m \u001b[0;34m\u001b[0m\u001b[0m\n\u001b[1;32m    537\u001b[0m     \u001b[0;32mdef\u001b[0m \u001b[0mforward\u001b[0m\u001b[0;34m(\u001b[0m\u001b[0;34m*\u001b[0m\u001b[0margs\u001b[0m\u001b[0;34m,\u001b[0m \u001b[0;34m**\u001b[0m\u001b[0mkwargs\u001b[0m\u001b[0;34m)\u001b[0m\u001b[0;34m:\u001b[0m\u001b[0;34m\u001b[0m\u001b[0m\n",
      "\u001b[0;32m/usr/local/lib/python3.6/dist-packages/click/decorators.py\u001b[0m in \u001b[0;36mnew_func\u001b[0;34m(*args, **kwargs)\u001b[0m\n\u001b[1;32m     15\u001b[0m     \"\"\"\n\u001b[1;32m     16\u001b[0m     \u001b[0;32mdef\u001b[0m \u001b[0mnew_func\u001b[0m\u001b[0;34m(\u001b[0m\u001b[0;34m*\u001b[0m\u001b[0margs\u001b[0m\u001b[0;34m,\u001b[0m \u001b[0;34m**\u001b[0m\u001b[0mkwargs\u001b[0m\u001b[0;34m)\u001b[0m\u001b[0;34m:\u001b[0m\u001b[0;34m\u001b[0m\u001b[0m\n\u001b[0;32m---> 17\u001b[0;31m         \u001b[0;32mreturn\u001b[0m \u001b[0mf\u001b[0m\u001b[0;34m(\u001b[0m\u001b[0mget_current_context\u001b[0m\u001b[0;34m(\u001b[0m\u001b[0;34m)\u001b[0m\u001b[0;34m,\u001b[0m \u001b[0;34m*\u001b[0m\u001b[0margs\u001b[0m\u001b[0;34m,\u001b[0m \u001b[0;34m**\u001b[0m\u001b[0mkwargs\u001b[0m\u001b[0;34m)\u001b[0m\u001b[0;34m\u001b[0m\u001b[0m\n\u001b[0m\u001b[1;32m     18\u001b[0m     \u001b[0;32mreturn\u001b[0m \u001b[0mupdate_wrapper\u001b[0m\u001b[0;34m(\u001b[0m\u001b[0mnew_func\u001b[0m\u001b[0;34m,\u001b[0m \u001b[0mf\u001b[0m\u001b[0;34m)\u001b[0m\u001b[0;34m\u001b[0m\u001b[0m\n\u001b[1;32m     19\u001b[0m \u001b[0;34m\u001b[0m\u001b[0m\n",
      "\u001b[0;32m/usr/local/lib/python3.6/dist-packages/catalyst/__main__.py\u001b[0m in \u001b[0;36mrun\u001b[0;34m(ctx, algofile, algotext, define, data_frequency, capital_base, bundle, bundle_timestamp, start, end, output, print_algo, local_namespace, exchange_name, algo_namespace, base_currency)\u001b[0m\n\u001b[1;32m    258\u001b[0m         \u001b[0mctx\u001b[0m\u001b[0;34m.\u001b[0m\u001b[0mfail\u001b[0m\u001b[0;34m(\u001b[0m\u001b[0;34m\"must specify a capital base with '--capital-base'\"\u001b[0m\u001b[0;34m)\u001b[0m\u001b[0;34m\u001b[0m\u001b[0m\n\u001b[1;32m    259\u001b[0m \u001b[0;34m\u001b[0m\u001b[0m\n\u001b[0;32m--> 260\u001b[0;31m     \u001b[0mclick\u001b[0m\u001b[0;34m.\u001b[0m\u001b[0mecho\u001b[0m\u001b[0;34m(\u001b[0m\u001b[0;34m'Running in backtesting mode.'\u001b[0m\u001b[0;34m)\u001b[0m\u001b[0;34m\u001b[0m\u001b[0m\n\u001b[0m\u001b[1;32m    261\u001b[0m \u001b[0;34m\u001b[0m\u001b[0m\n\u001b[1;32m    262\u001b[0m     perf = _run(\n",
      "\u001b[0;32m/usr/local/lib/python3.6/dist-packages/click/utils.py\u001b[0m in \u001b[0;36mecho\u001b[0;34m(message, file, nl, err, color)\u001b[0m\n\u001b[1;32m    257\u001b[0m \u001b[0;34m\u001b[0m\u001b[0m\n\u001b[1;32m    258\u001b[0m     \u001b[0;32mif\u001b[0m \u001b[0mmessage\u001b[0m\u001b[0;34m:\u001b[0m\u001b[0;34m\u001b[0m\u001b[0m\n\u001b[0;32m--> 259\u001b[0;31m         \u001b[0mfile\u001b[0m\u001b[0;34m.\u001b[0m\u001b[0mwrite\u001b[0m\u001b[0;34m(\u001b[0m\u001b[0mmessage\u001b[0m\u001b[0;34m)\u001b[0m\u001b[0;34m\u001b[0m\u001b[0m\n\u001b[0m\u001b[1;32m    260\u001b[0m     \u001b[0mfile\u001b[0m\u001b[0;34m.\u001b[0m\u001b[0mflush\u001b[0m\u001b[0;34m(\u001b[0m\u001b[0;34m)\u001b[0m\u001b[0;34m\u001b[0m\u001b[0m\n\u001b[1;32m    261\u001b[0m \u001b[0;34m\u001b[0m\u001b[0m\n",
      "\u001b[0;31mUnsupportedOperation\u001b[0m: not writable"
     ]
    }
   ],
   "source": [
    "%%catalyst --start 2015-3-1 --end 2017-6-28 --capital-base 100000 -x bitfinex -c usd\n",
    "\n",
    "from catalyst.finance.slippage import VolumeShareSlippage\n",
    "\n",
    "from catalyst.api import (\n",
    "    order_target_value,\n",
    "    symbol,\n",
    "    record,\n",
    "    cancel_order,\n",
    "    get_open_orders,\n",
    ")\n",
    "\n",
    "def initialize(context):\n",
    "    context.ASSET_NAME = 'btc_usd'\n",
    "    context.TARGET_HODL_RATIO = 0.8\n",
    "    context.RESERVE_RATIO = 1.0 - context.TARGET_HODL_RATIO\n",
    "\n",
    "    # For all trading pairs in the poloniex bundle, the default denomination\n",
    "    # currently supported by Catalyst is 1/1000th of a full coin. Use this\n",
    "    # constant to scale the price of up to that of a full coin if desired.\n",
    "    context.TICK_SIZE = 1000.0\n",
    "\n",
    "    context.is_buying = True\n",
    "    context.asset = symbol(context.ASSET_NAME)\n",
    "\n",
    "    context.i = 0\n",
    "\n",
    "def handle_data(context, data):\n",
    "    context.i += 1\n",
    "\n",
    "    starting_cash = context.portfolio.starting_cash\n",
    "    target_hodl_value = context.TARGET_HODL_RATIO * starting_cash\n",
    "    reserve_value = context.RESERVE_RATIO * starting_cash\n",
    "\n",
    "    # Cancel any outstanding orders\n",
    "    orders = get_open_orders(context.asset) or []\n",
    "    for order in orders:\n",
    "        cancel_order(order)\n",
    "    \n",
    "    # Stop buying after passing the reserve threshold\n",
    "    cash = context.portfolio.cash\n",
    "    if cash <= reserve_value:\n",
    "        context.is_buying = False\n",
    "\n",
    "    # Retrieve current asset price from pricing data\n",
    "    price = data.current(context.asset,'price')\n",
    "\n",
    "    # Check if still buying and could (approximately) afford another purchase\n",
    "    if context.is_buying and cash > price:\n",
    "        # Place order to make position in asset equal to target_hodl_value\n",
    "        order_target_value(\n",
    "            context.asset,\n",
    "            target_hodl_value,\n",
    "            limit_price=price*1.1,\n",
    "        )\n",
    "\n",
    "    record(\n",
    "        price=price,\n",
    "        volume=data.current(context.asset,'volume'),\n",
    "        cash=cash,\n",
    "        starting_cash=context.portfolio.starting_cash,\n",
    "        leverage=context.account.leverage,\n",
    "    )\n",
    "\n",
    "def analyze(context=None, results=None):\n",
    "    import matplotlib.pyplot as plt\n",
    "\n",
    "    # Plot the portfolio and asset data.\n",
    "    ax1 = plt.subplot(611)\n",
    "    results[['portfolio_value']].plot(ax=ax1)\n",
    "    ax1.set_ylabel('Portfolio Value (USD)')\n",
    "\n",
    "    ax2 = plt.subplot(612, sharex=ax1)\n",
    "    ax2.set_ylabel('{asset} (USD)'.format(asset=context.ASSET_NAME))\n",
    "    (context.TICK_SIZE * results[['price']]).plot(ax=ax2)\n",
    "\n",
    "    trans = results.ix[[t != [] for t in results.transactions]]\n",
    "    buys = trans.ix[\n",
    "        [t[0]['amount'] > 0 for t in trans.transactions]\n",
    "    ]\n",
    "    ax2.plot(\n",
    "        buys.index,\n",
    "        context.TICK_SIZE * results.price[buys.index],\n",
    "        '^',\n",
    "        markersize=10,\n",
    "        color='g',\n",
    "    )\n",
    "\n",
    "    ax3 = plt.subplot(613, sharex=ax1)\n",
    "    results[['leverage', 'alpha', 'beta']].plot(ax=ax3)\n",
    "    ax3.set_ylabel('Leverage ')\n",
    "\n",
    "    ax4 = plt.subplot(614, sharex=ax1)\n",
    "    results[['starting_cash', 'cash']].plot(ax=ax4)\n",
    "    ax4.set_ylabel('Cash (USD)')\n",
    "\n",
    "    results[[\n",
    "        'treasury',\n",
    "        'algorithm',\n",
    "        'benchmark',\n",
    "    ]] = results[[\n",
    "        'treasury_period_return',\n",
    "        'algorithm_period_return',\n",
    "        'benchmark_period_return',\n",
    "    ]]\n",
    "\n",
    "    ax5 = plt.subplot(615, sharex=ax1)\n",
    "    results[[\n",
    "        'treasury',\n",
    "        'algorithm',\n",
    "        'benchmark',\n",
    "    ]].plot(ax=ax5)\n",
    "    ax5.set_ylabel('Percent Change')\n",
    "\n",
    "    ax6 = plt.subplot(616, sharex=ax1)\n",
    "    results[['volume']].plot(ax=ax6)\n",
    "    ax6.set_ylabel('Volume (mCoins/5min)')\n",
    "\n",
    "    plt.legend(loc=3)\n",
    "\n",
    "    # Show the plot.\n",
    "    plt.gcf().set_size_inches(18, 8)\n",
    "    plt.show()"
   ]
  },
  {
   "cell_type": "code",
   "execution_count": null,
   "metadata": {},
   "outputs": [],
   "source": []
  }
 ],
 "metadata": {
  "kernelspec": {
   "display_name": "Python 3",
   "language": "python",
   "name": "python3"
  },
  "language_info": {
   "codemirror_mode": {
    "name": "ipython",
    "version": 3
   },
   "file_extension": ".py",
   "mimetype": "text/x-python",
   "name": "python",
   "nbconvert_exporter": "python",
   "pygments_lexer": "ipython3",
   "version": "3.6.3"
  }
 },
 "nbformat": 4,
 "nbformat_minor": 2
}
