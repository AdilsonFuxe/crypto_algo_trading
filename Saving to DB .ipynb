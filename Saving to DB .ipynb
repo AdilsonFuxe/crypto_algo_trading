{
 "cells": [
  {
   "cell_type": "code",
   "execution_count": 8,
   "metadata": {},
   "outputs": [],
   "source": [
    "from sqlalchemy import create_engine\n",
    "import pandas as pd\n",
    "import datetime\n",
    "import poloniex"
   ]
  },
  {
   "cell_type": "code",
   "execution_count": 4,
   "metadata": {},
   "outputs": [],
   "source": [
    "conexão = create_engine('sqlite:///teste.sqlite')"
   ]
  },
  {
   "cell_type": "code",
   "execution_count": 6,
   "metadata": {},
   "outputs": [
    {
     "data": {
      "text/plain": [
       "[('emap', 8)]"
      ]
     },
     "execution_count": 6,
     "metadata": {},
     "output_type": "execute_result"
    }
   ],
   "source": [
    "r = conexão.execute('select * from teste;')\n",
    "r.fetchall()"
   ]
  },
  {
   "cell_type": "code",
   "execution_count": 10,
   "metadata": {},
   "outputs": [
    {
     "name": "stdout",
     "output_type": "stream",
     "text": [
      "Downloading USDT_ETH from 2016-02-04 15:15:29.831985 to 2018-01-24 15:15:29.831985.\n"
     ]
    }
   ],
   "source": [
    "end = datetime.datetime.now()\n",
    "start = end - datetime.timedelta(days=720)\n",
    "ether = poloniex.get_ohlc('USDT_ETH',start, end)"
   ]
  },
  {
   "cell_type": "code",
   "execution_count": 12,
   "metadata": {},
   "outputs": [
    {
     "data": {
      "text/html": [
       "<div>\n",
       "<style scoped>\n",
       "    .dataframe tbody tr th:only-of-type {\n",
       "        vertical-align: middle;\n",
       "    }\n",
       "\n",
       "    .dataframe tbody tr th {\n",
       "        vertical-align: top;\n",
       "    }\n",
       "\n",
       "    .dataframe thead th {\n",
       "        text-align: right;\n",
       "    }\n",
       "</style>\n",
       "<table border=\"1\" class=\"dataframe\">\n",
       "  <thead>\n",
       "    <tr style=\"text-align: right;\">\n",
       "      <th></th>\n",
       "      <th>close</th>\n",
       "      <th>high</th>\n",
       "      <th>low</th>\n",
       "      <th>open</th>\n",
       "      <th>quoteVolume</th>\n",
       "      <th>volume</th>\n",
       "      <th>weightedAverage</th>\n",
       "    </tr>\n",
       "    <tr>\n",
       "      <th>date</th>\n",
       "      <th></th>\n",
       "      <th></th>\n",
       "      <th></th>\n",
       "      <th></th>\n",
       "      <th></th>\n",
       "      <th></th>\n",
       "      <th></th>\n",
       "    </tr>\n",
       "  </thead>\n",
       "  <tbody>\n",
       "    <tr>\n",
       "      <th>2016-02-04 17:20:00</th>\n",
       "      <td>2.431746</td>\n",
       "      <td>2.431746</td>\n",
       "      <td>2.431746</td>\n",
       "      <td>2.431746</td>\n",
       "      <td>0.000000</td>\n",
       "      <td>0.000000</td>\n",
       "      <td>2.431746</td>\n",
       "    </tr>\n",
       "    <tr>\n",
       "      <th>2016-02-04 17:25:00</th>\n",
       "      <td>2.431746</td>\n",
       "      <td>2.431746</td>\n",
       "      <td>2.431746</td>\n",
       "      <td>2.431746</td>\n",
       "      <td>0.000000</td>\n",
       "      <td>0.000000</td>\n",
       "      <td>2.431746</td>\n",
       "    </tr>\n",
       "    <tr>\n",
       "      <th>2016-02-04 17:30:00</th>\n",
       "      <td>2.554764</td>\n",
       "      <td>2.554764</td>\n",
       "      <td>2.554764</td>\n",
       "      <td>2.554764</td>\n",
       "      <td>0.981683</td>\n",
       "      <td>2.507968</td>\n",
       "      <td>2.554764</td>\n",
       "    </tr>\n",
       "    <tr>\n",
       "      <th>2016-02-04 17:35:00</th>\n",
       "      <td>2.554764</td>\n",
       "      <td>2.554764</td>\n",
       "      <td>2.554764</td>\n",
       "      <td>2.554764</td>\n",
       "      <td>0.000000</td>\n",
       "      <td>0.000000</td>\n",
       "      <td>2.554764</td>\n",
       "    </tr>\n",
       "    <tr>\n",
       "      <th>2016-02-04 17:40:00</th>\n",
       "      <td>2.554764</td>\n",
       "      <td>2.554764</td>\n",
       "      <td>2.554764</td>\n",
       "      <td>2.554764</td>\n",
       "      <td>0.000000</td>\n",
       "      <td>0.000000</td>\n",
       "      <td>2.554764</td>\n",
       "    </tr>\n",
       "  </tbody>\n",
       "</table>\n",
       "</div>"
      ],
      "text/plain": [
       "                        close      high       low      open  quoteVolume  \\\n",
       "date                                                                       \n",
       "2016-02-04 17:20:00  2.431746  2.431746  2.431746  2.431746     0.000000   \n",
       "2016-02-04 17:25:00  2.431746  2.431746  2.431746  2.431746     0.000000   \n",
       "2016-02-04 17:30:00  2.554764  2.554764  2.554764  2.554764     0.981683   \n",
       "2016-02-04 17:35:00  2.554764  2.554764  2.554764  2.554764     0.000000   \n",
       "2016-02-04 17:40:00  2.554764  2.554764  2.554764  2.554764     0.000000   \n",
       "\n",
       "                       volume  weightedAverage  \n",
       "date                                            \n",
       "2016-02-04 17:20:00  0.000000         2.431746  \n",
       "2016-02-04 17:25:00  0.000000         2.431746  \n",
       "2016-02-04 17:30:00  2.507968         2.554764  \n",
       "2016-02-04 17:35:00  0.000000         2.554764  \n",
       "2016-02-04 17:40:00  0.000000         2.554764  "
      ]
     },
     "execution_count": 12,
     "metadata": {},
     "output_type": "execute_result"
    }
   ],
   "source": [
    "ether.head()"
   ]
  },
  {
   "cell_type": "code",
   "execution_count": 13,
   "metadata": {},
   "outputs": [],
   "source": [
    "conexão2 = create_engine('sqlite:///ether.sqlite')"
   ]
  },
  {
   "cell_type": "code",
   "execution_count": 15,
   "metadata": {},
   "outputs": [],
   "source": [
    "ether.to_sql('poloniex',conexão2)"
   ]
  },
  {
   "cell_type": "code",
   "execution_count": null,
   "metadata": {},
   "outputs": [],
   "source": [
    "conexão2.table_names()"
   ]
  },
  {
   "cell_type": "code",
   "execution_count": 22,
   "metadata": {},
   "outputs": [
    {
     "data": {
      "text/plain": [
       "[('2016-02-04 17:20:00.000000', 2.43174586, 2.43174586, 2.43174586, 2.43174586, 0.0, 0.0, 2.43174586),\n",
       " ('2016-02-04 17:25:00.000000', 2.43174586, 2.43174586, 2.43174586, 2.43174586, 0.0, 0.0, 2.43174586),\n",
       " ('2016-02-04 17:30:00.000000', 2.55476355, 2.55476355, 2.55476355, 2.55476355, 0.98168314, 2.5079683, 2.55476355),\n",
       " ('2016-02-04 17:35:00.000000', 2.55476355, 2.55476355, 2.55476355, 2.55476355, 0.0, 0.0, 2.55476355),\n",
       " ('2016-02-04 17:40:00.000000', 2.55476355, 2.55476355, 2.55476355, 2.55476355, 0.0, 0.0, 2.55476355)]"
      ]
     },
     "execution_count": 22,
     "metadata": {},
     "output_type": "execute_result"
    }
   ],
   "source": [
    "r = conexão2.execute('select * from poloniex limit 5;')\n",
    "r.fetchall()"
   ]
  },
  {
   "cell_type": "code",
   "execution_count": 18,
   "metadata": {},
   "outputs": [
    {
     "data": {
      "text/html": [
       "<div>\n",
       "<style scoped>\n",
       "    .dataframe tbody tr th:only-of-type {\n",
       "        vertical-align: middle;\n",
       "    }\n",
       "\n",
       "    .dataframe tbody tr th {\n",
       "        vertical-align: top;\n",
       "    }\n",
       "\n",
       "    .dataframe thead th {\n",
       "        text-align: right;\n",
       "    }\n",
       "</style>\n",
       "<table border=\"1\" class=\"dataframe\">\n",
       "  <thead>\n",
       "    <tr style=\"text-align: right;\">\n",
       "      <th></th>\n",
       "      <th>date</th>\n",
       "      <th>close</th>\n",
       "      <th>high</th>\n",
       "      <th>low</th>\n",
       "      <th>open</th>\n",
       "      <th>quoteVolume</th>\n",
       "      <th>volume</th>\n",
       "      <th>weightedAverage</th>\n",
       "    </tr>\n",
       "  </thead>\n",
       "  <tbody>\n",
       "    <tr>\n",
       "      <th>0</th>\n",
       "      <td>2016-02-04 17:20:00.000000</td>\n",
       "      <td>2.431746</td>\n",
       "      <td>2.431746</td>\n",
       "      <td>2.431746</td>\n",
       "      <td>2.431746</td>\n",
       "      <td>0.000000</td>\n",
       "      <td>0.000000</td>\n",
       "      <td>2.431746</td>\n",
       "    </tr>\n",
       "    <tr>\n",
       "      <th>1</th>\n",
       "      <td>2016-02-04 17:25:00.000000</td>\n",
       "      <td>2.431746</td>\n",
       "      <td>2.431746</td>\n",
       "      <td>2.431746</td>\n",
       "      <td>2.431746</td>\n",
       "      <td>0.000000</td>\n",
       "      <td>0.000000</td>\n",
       "      <td>2.431746</td>\n",
       "    </tr>\n",
       "    <tr>\n",
       "      <th>2</th>\n",
       "      <td>2016-02-04 17:30:00.000000</td>\n",
       "      <td>2.554764</td>\n",
       "      <td>2.554764</td>\n",
       "      <td>2.554764</td>\n",
       "      <td>2.554764</td>\n",
       "      <td>0.981683</td>\n",
       "      <td>2.507968</td>\n",
       "      <td>2.554764</td>\n",
       "    </tr>\n",
       "    <tr>\n",
       "      <th>3</th>\n",
       "      <td>2016-02-04 17:35:00.000000</td>\n",
       "      <td>2.554764</td>\n",
       "      <td>2.554764</td>\n",
       "      <td>2.554764</td>\n",
       "      <td>2.554764</td>\n",
       "      <td>0.000000</td>\n",
       "      <td>0.000000</td>\n",
       "      <td>2.554764</td>\n",
       "    </tr>\n",
       "    <tr>\n",
       "      <th>4</th>\n",
       "      <td>2016-02-04 17:40:00.000000</td>\n",
       "      <td>2.554764</td>\n",
       "      <td>2.554764</td>\n",
       "      <td>2.554764</td>\n",
       "      <td>2.554764</td>\n",
       "      <td>0.000000</td>\n",
       "      <td>0.000000</td>\n",
       "      <td>2.554764</td>\n",
       "    </tr>\n",
       "  </tbody>\n",
       "</table>\n",
       "</div>"
      ],
      "text/plain": [
       "                         date     close      high       low      open  \\\n",
       "0  2016-02-04 17:20:00.000000  2.431746  2.431746  2.431746  2.431746   \n",
       "1  2016-02-04 17:25:00.000000  2.431746  2.431746  2.431746  2.431746   \n",
       "2  2016-02-04 17:30:00.000000  2.554764  2.554764  2.554764  2.554764   \n",
       "3  2016-02-04 17:35:00.000000  2.554764  2.554764  2.554764  2.554764   \n",
       "4  2016-02-04 17:40:00.000000  2.554764  2.554764  2.554764  2.554764   \n",
       "\n",
       "   quoteVolume    volume  weightedAverage  \n",
       "0     0.000000  0.000000         2.431746  \n",
       "1     0.000000  0.000000         2.431746  \n",
       "2     0.981683  2.507968         2.554764  \n",
       "3     0.000000  0.000000         2.554764  \n",
       "4     0.000000  0.000000         2.554764  "
      ]
     },
     "execution_count": 18,
     "metadata": {},
     "output_type": "execute_result"
    }
   ],
   "source": [
    "df = pd.read_sql_query('select * from poloniex limit 5;', conexão2)\n",
    "df"
   ]
  },
  {
   "cell_type": "markdown",
   "metadata": {},
   "source": []
  }
 ],
 "metadata": {
  "kernelspec": {
   "display_name": "Python 3",
   "language": "python",
   "name": "python3"
  },
  "language_info": {
   "codemirror_mode": {
    "name": "ipython",
    "version": 3
   },
   "file_extension": ".py",
   "mimetype": "text/x-python",
   "name": "python",
   "nbconvert_exporter": "python",
   "pygments_lexer": "ipython3",
   "version": "3.6.3"
  }
 },
 "nbformat": 4,
 "nbformat_minor": 2
}
